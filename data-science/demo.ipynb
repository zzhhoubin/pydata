{
 "cells": [
  {
   "cell_type": "markdown",
   "metadata": {},
   "source": [
    "### 算法是独立存在的一种解决问题的方法和思想\n",
    "\n",
    "衡量算法的效率：仅仅看运行时间，不靠谱，因为依赖了硬件环境\n",
    "分析时间：基本步骤总数 * 每个步骤耗时\n",
    "时间频度：T(n) = n^3 * 10\n",
    "时间复杂度O(n)：比较的是随着n的变化，函数的增长率\n",
    "渐进函数：g(n) = n^3\n",
    "大O表示法：T(n) = O(n^3)\n",
    "描述算法的效率，用时间复杂度代表，用大O表示法"
   ]
  },
  {
   "cell_type": "markdown",
   "metadata": {},
   "source": [
    "`如果a+b+c=1000，且a^2+b^2=c^2（a,b,c为自然数），如何求出a、b、c可能的组合？`"
   ]
  },
  {
   "cell_type": "code",
   "execution_count": 1,
   "metadata": {},
   "outputs": [
    {
     "name": "stdout",
     "output_type": "stream",
     "text": [
      "a,b,c:0, 500, 500\n",
      "a,b,c:200, 375, 425\n",
      "a,b,c:375, 200, 425\n",
      "a,b,c:500, 0, 500\n",
      "218.82400107383728\n"
     ]
    }
   ],
   "source": [
    "import time\n",
    "\n",
    "\n",
    "start_time = time.time()\n",
    "\n",
    "for a in range(1000 + 1):\n",
    "    for b in range(1000 + 1):\n",
    "        for c in range(1000 + 1):\n",
    "            if a + b + c == 1000 and a**2 + b**2 == c**2:\n",
    "                print('a,b,c:%d, %d, %d' % (a, b, c))\n",
    "\n",
    "end_time = time.time()\n",
    "total_time = end_time - start_time\n",
    "\n",
    "print(total_time)"
   ]
  },
  {
   "cell_type": "code",
   "execution_count": 2,
   "metadata": {},
   "outputs": [
    {
     "name": "stdout",
     "output_type": "stream",
     "text": [
      "a,b,c:0, 500, 500\n",
      "a,b,c:200, 375, 425\n",
      "a,b,c:375, 200, 425\n",
      "a,b,c:500, 0, 500\n",
      "1.4504878520965576\n"
     ]
    }
   ],
   "source": [
    "import time\n",
    "\n",
    "\n",
    "start_time = time.time()\n",
    "\n",
    "for a in range(1000 + 1):\n",
    "    for b in range(1000 + 1):\n",
    "        c = 1000 - a - b\n",
    "        if a**2 + b**2 == c**2:\n",
    "            print('a,b,c:%d, %d, %d' % (a, b, c))\n",
    "\n",
    "end_time = time.time()\n",
    "total_time = end_time - start_time\n",
    "\n",
    "print(total_time)"
   ]
  },
  {
   "cell_type": "code",
   "execution_count": 3,
   "metadata": {},
   "outputs": [
    {
     "name": "stdout",
     "output_type": "stream",
     "text": [
      "a,b,c:0, 500, 500\n",
      "a,b,c:200, 375, 425\n",
      "a,b,c:375, 200, 425\n",
      "a,b,c:500, 0, 500\n",
      "1.4508609771728516\n"
     ]
    }
   ],
   "source": [
    "import time\n",
    "\n",
    "\n",
    "start_time = time.time()\n",
    "\n",
    "# 分析时间复杂度\n",
    "# 1、计算时间频度 T(n) = n * n * (3 + 5 + (if 1 else 0)) = n^2*9\n",
    "# 2、渐进函数 g(n) = n^2\n",
    "# 3、大O表示法 T(n) = O(n^2)\n",
    "\n",
    "for a in range(1000 + 1):\n",
    "    for b in range(1000 + 1):\n",
    "        c = 1000 - a - b\n",
    "        if a**2 + b**2 == c**2:\n",
    "            print('a,b,c:%d, %d, %d' % (a, b, c))\n",
    "\n",
    "end_time = time.time()\n",
    "total_time = end_time - start_time\n",
    "\n",
    "print(total_time)"
   ]
  },
  {
   "cell_type": "markdown",
   "metadata": {},
   "source": [
    "`使用timeit模块测试代码运行时间`"
   ]
  },
  {
   "cell_type": "code",
   "execution_count": 4,
   "metadata": {},
   "outputs": [
    {
     "name": "stdout",
     "output_type": "stream",
     "text": [
      "a\n",
      "a\n",
      "a\n",
      "a\n",
      "a\n",
      "0.00028118699992774054\n"
     ]
    }
   ],
   "source": [
    "from timeit import Timer\n",
    "\n",
    "\n",
    "s = 'print(\"a\")'\n",
    "\n",
    "timer = Timer(s)\n",
    "t = timer.timeit(number=5)  # 返回的是代码运行的总耗时\n",
    "print(t)"
   ]
  },
  {
   "cell_type": "code",
   "execution_count": 5,
   "metadata": {},
   "outputs": [
    {
     "name": "stdout",
     "output_type": "stream",
     "text": [
      "6\n",
      "6\n",
      "6\n",
      "6\n",
      "6\n",
      "6\n",
      "0.0039700960005575325\n"
     ]
    }
   ],
   "source": [
    "from timeit import Timer\n",
    "\n",
    "\n",
    "s = 'print(a)'\n",
    "\n",
    "timer = Timer(s, 'a=6')\n",
    "t = timer.timeit(number=6)  # 返回的是代码运行的总耗时\n",
    "print(t)"
   ]
  },
  {
   "cell_type": "code",
   "execution_count": 6,
   "metadata": {},
   "outputs": [
    {
     "name": "stdout",
     "output_type": "stream",
     "text": [
      "666\n",
      "666\n",
      "666\n",
      "666\n",
      "666\n",
      "666\n",
      "0.0005391819995566038\n"
     ]
    }
   ],
   "source": [
    "from timeit import Timer\n",
    "\n",
    "\n",
    "def func():\n",
    "    print('666')\n",
    "\n",
    "timer = Timer('func()', 'from __main__ import func')\n",
    "t = timer.timeit(number=6)  # 返回的是代码运行的总耗时\n",
    "print(t)"
   ]
  },
  {
   "cell_type": "code",
   "execution_count": 7,
   "metadata": {
    "scrolled": true
   },
   "outputs": [
    {
     "name": "stdout",
     "output_type": "stream",
     "text": [
      "0.12903950100007933\n",
      "0.11295662799966522\n",
      "0.535587342999861\n",
      "0.05142330000126094\n",
      "0.018890921999627608\n"
     ]
    }
   ],
   "source": [
    "from timeit import Timer\n",
    "\n",
    "\n",
    "def t():\n",
    "    print(1)\n",
    "\n",
    "def t1():\n",
    "    li = []\n",
    "    for i in range(1000):\n",
    "        li += [i]\n",
    "\n",
    "def t2():\n",
    "    li = []\n",
    "    for i in range(1000):\n",
    "        li.append(i)\n",
    "\n",
    "def t3():\n",
    "    li = []\n",
    "    for i in range(1000):\n",
    "        li.insert(0, i)\n",
    "\n",
    "def t4():\n",
    "    li = [i for i in range(1000)]\n",
    "\n",
    "def t5():\n",
    "    li = list(range(1000))\n",
    "\n",
    "timer = Timer('t1()', 'from __main__ import t1')\n",
    "t = timer.timeit(number=1000)\n",
    "print(t)\n",
    "\n",
    "timer = Timer('t2()', 'from __main__ import t2')\n",
    "t = timer.timeit(number=1000)\n",
    "print(t)\n",
    "\n",
    "timer = Timer('t3()', 'from __main__ import t3')\n",
    "t = timer.timeit(number=1000)\n",
    "print(t)\n",
    "\n",
    "timer = Timer('t4()', 'from __main__ import t4')\n",
    "t = timer.timeit(number=1000)\n",
    "print(t)\n",
    "\n",
    "timer = Timer('t5()', 'from __main__ import t5')\n",
    "t = timer.timeit(number=1000)\n",
    "print(t)"
   ]
  },
  {
   "cell_type": "code",
   "execution_count": null,
   "metadata": {},
   "outputs": [],
   "source": []
  }
 ],
 "metadata": {
  "kernelspec": {
   "display_name": "Python 3",
   "language": "python",
   "name": "python3"
  },
  "language_info": {
   "codemirror_mode": {
    "name": "ipython",
    "version": 3
   },
   "file_extension": ".py",
   "mimetype": "text/x-python",
   "name": "python",
   "nbconvert_exporter": "python",
   "pygments_lexer": "ipython3",
   "version": "3.6.3"
  }
 },
 "nbformat": 4,
 "nbformat_minor": 2
}
