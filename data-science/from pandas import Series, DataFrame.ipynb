{
 "cells": [
  {
   "cell_type": "code",
   "execution_count": 3,
   "metadata": {},
   "outputs": [],
   "source": [
    "import numpy as np\n",
    "import pandas as pd\n",
    "from pandas import Series, DataFrame"
   ]
  },
  {
   "cell_type": "code",
   "execution_count": 5,
   "metadata": {},
   "outputs": [
    {
     "data": {
      "text/html": [
       "<div>\n",
       "<style scoped>\n",
       "    .dataframe tbody tr th:only-of-type {\n",
       "        vertical-align: middle;\n",
       "    }\n",
       "\n",
       "    .dataframe tbody tr th {\n",
       "        vertical-align: top;\n",
       "    }\n",
       "\n",
       "    .dataframe thead th {\n",
       "        text-align: right;\n",
       "    }\n",
       "</style>\n",
       "<table border=\"1\" class=\"dataframe\">\n",
       "  <thead>\n",
       "    <tr style=\"text-align: right;\">\n",
       "      <th></th>\n",
       "      <th>w</th>\n",
       "      <th>x</th>\n",
       "      <th>y</th>\n",
       "      <th>z</th>\n",
       "    </tr>\n",
       "  </thead>\n",
       "  <tbody>\n",
       "    <tr>\n",
       "      <th>a</th>\n",
       "      <td>0</td>\n",
       "      <td>1</td>\n",
       "      <td>2</td>\n",
       "      <td>3</td>\n",
       "    </tr>\n",
       "    <tr>\n",
       "      <th>b</th>\n",
       "      <td>4</td>\n",
       "      <td>5</td>\n",
       "      <td>6</td>\n",
       "      <td>7</td>\n",
       "    </tr>\n",
       "    <tr>\n",
       "      <th>c</th>\n",
       "      <td>8</td>\n",
       "      <td>9</td>\n",
       "      <td>10</td>\n",
       "      <td>11</td>\n",
       "    </tr>\n",
       "    <tr>\n",
       "      <th>d</th>\n",
       "      <td>12</td>\n",
       "      <td>13</td>\n",
       "      <td>14</td>\n",
       "      <td>15</td>\n",
       "    </tr>\n",
       "  </tbody>\n",
       "</table>\n",
       "</div>"
      ],
      "text/plain": [
       "    w   x   y   z\n",
       "a   0   1   2   3\n",
       "b   4   5   6   7\n",
       "c   8   9  10  11\n",
       "d  12  13  14  15"
      ]
     },
     "execution_count": 5,
     "metadata": {},
     "output_type": "execute_result"
    }
   ],
   "source": [
    "ser = Series(np.arange(3.))\n",
    "\n",
    "data = DataFrame(np.arange(16).reshape(4,4),index=list('abcd'),columns=list('wxyz'))\n",
    "\n",
    "data"
   ]
  },
  {
   "cell_type": "code",
   "execution_count": 6,
   "metadata": {},
   "outputs": [
    {
     "data": {
      "text/plain": [
       "a     0\n",
       "b     4\n",
       "c     8\n",
       "d    12\n",
       "Name: w, dtype: int64"
      ]
     },
     "execution_count": 6,
     "metadata": {},
     "output_type": "execute_result"
    }
   ],
   "source": [
    "data['w']  #选择表格中的'w'列，使用类字典属性,返回的是Series类型"
   ]
  },
  {
   "cell_type": "code",
   "execution_count": 7,
   "metadata": {},
   "outputs": [
    {
     "data": {
      "text/plain": [
       "a     0\n",
       "b     4\n",
       "c     8\n",
       "d    12\n",
       "Name: w, dtype: int64"
      ]
     },
     "execution_count": 7,
     "metadata": {},
     "output_type": "execute_result"
    }
   ],
   "source": [
    "data.w  #选择表格中的'w'列，使用点属性,返回的是Series类型"
   ]
  },
  {
   "cell_type": "code",
   "execution_count": 8,
   "metadata": {},
   "outputs": [
    {
     "data": {
      "text/html": [
       "<div>\n",
       "<style scoped>\n",
       "    .dataframe tbody tr th:only-of-type {\n",
       "        vertical-align: middle;\n",
       "    }\n",
       "\n",
       "    .dataframe tbody tr th {\n",
       "        vertical-align: top;\n",
       "    }\n",
       "\n",
       "    .dataframe thead th {\n",
       "        text-align: right;\n",
       "    }\n",
       "</style>\n",
       "<table border=\"1\" class=\"dataframe\">\n",
       "  <thead>\n",
       "    <tr style=\"text-align: right;\">\n",
       "      <th></th>\n",
       "      <th>w</th>\n",
       "    </tr>\n",
       "  </thead>\n",
       "  <tbody>\n",
       "    <tr>\n",
       "      <th>a</th>\n",
       "      <td>0</td>\n",
       "    </tr>\n",
       "    <tr>\n",
       "      <th>b</th>\n",
       "      <td>4</td>\n",
       "    </tr>\n",
       "    <tr>\n",
       "      <th>c</th>\n",
       "      <td>8</td>\n",
       "    </tr>\n",
       "    <tr>\n",
       "      <th>d</th>\n",
       "      <td>12</td>\n",
       "    </tr>\n",
       "  </tbody>\n",
       "</table>\n",
       "</div>"
      ],
      "text/plain": [
       "    w\n",
       "a   0\n",
       "b   4\n",
       "c   8\n",
       "d  12"
      ]
     },
     "execution_count": 8,
     "metadata": {},
     "output_type": "execute_result"
    }
   ],
   "source": [
    "data[['w']]  #选择表格中的'w'列，返回的是DataFrame类型"
   ]
  },
  {
   "cell_type": "code",
   "execution_count": 9,
   "metadata": {},
   "outputs": [
    {
     "data": {
      "text/html": [
       "<div>\n",
       "<style scoped>\n",
       "    .dataframe tbody tr th:only-of-type {\n",
       "        vertical-align: middle;\n",
       "    }\n",
       "\n",
       "    .dataframe tbody tr th {\n",
       "        vertical-align: top;\n",
       "    }\n",
       "\n",
       "    .dataframe thead th {\n",
       "        text-align: right;\n",
       "    }\n",
       "</style>\n",
       "<table border=\"1\" class=\"dataframe\">\n",
       "  <thead>\n",
       "    <tr style=\"text-align: right;\">\n",
       "      <th></th>\n",
       "      <th>w</th>\n",
       "      <th>z</th>\n",
       "    </tr>\n",
       "  </thead>\n",
       "  <tbody>\n",
       "    <tr>\n",
       "      <th>a</th>\n",
       "      <td>0</td>\n",
       "      <td>3</td>\n",
       "    </tr>\n",
       "    <tr>\n",
       "      <th>b</th>\n",
       "      <td>4</td>\n",
       "      <td>7</td>\n",
       "    </tr>\n",
       "    <tr>\n",
       "      <th>c</th>\n",
       "      <td>8</td>\n",
       "      <td>11</td>\n",
       "    </tr>\n",
       "    <tr>\n",
       "      <th>d</th>\n",
       "      <td>12</td>\n",
       "      <td>15</td>\n",
       "    </tr>\n",
       "  </tbody>\n",
       "</table>\n",
       "</div>"
      ],
      "text/plain": [
       "    w   z\n",
       "a   0   3\n",
       "b   4   7\n",
       "c   8  11\n",
       "d  12  15"
      ]
     },
     "execution_count": 9,
     "metadata": {},
     "output_type": "execute_result"
    }
   ],
   "source": [
    "data[['w','z']]  #选择表格中的'w'、'z'列"
   ]
  },
  {
   "cell_type": "code",
   "execution_count": 10,
   "metadata": {},
   "outputs": [
    {
     "data": {
      "text/html": [
       "<div>\n",
       "<style scoped>\n",
       "    .dataframe tbody tr th:only-of-type {\n",
       "        vertical-align: middle;\n",
       "    }\n",
       "\n",
       "    .dataframe tbody tr th {\n",
       "        vertical-align: top;\n",
       "    }\n",
       "\n",
       "    .dataframe thead th {\n",
       "        text-align: right;\n",
       "    }\n",
       "</style>\n",
       "<table border=\"1\" class=\"dataframe\">\n",
       "  <thead>\n",
       "    <tr style=\"text-align: right;\">\n",
       "      <th></th>\n",
       "      <th>w</th>\n",
       "      <th>x</th>\n",
       "      <th>y</th>\n",
       "      <th>z</th>\n",
       "    </tr>\n",
       "  </thead>\n",
       "  <tbody>\n",
       "    <tr>\n",
       "      <th>a</th>\n",
       "      <td>0</td>\n",
       "      <td>1</td>\n",
       "      <td>2</td>\n",
       "      <td>3</td>\n",
       "    </tr>\n",
       "    <tr>\n",
       "      <th>b</th>\n",
       "      <td>4</td>\n",
       "      <td>5</td>\n",
       "      <td>6</td>\n",
       "      <td>7</td>\n",
       "    </tr>\n",
       "  </tbody>\n",
       "</table>\n",
       "</div>"
      ],
      "text/plain": [
       "   w  x  y  z\n",
       "a  0  1  2  3\n",
       "b  4  5  6  7"
      ]
     },
     "execution_count": 10,
     "metadata": {},
     "output_type": "execute_result"
    }
   ],
   "source": [
    "data[0:2]  #返回第1行到第2行的所有行，前闭后开，包括前不包括后"
   ]
  },
  {
   "cell_type": "code",
   "execution_count": 11,
   "metadata": {},
   "outputs": [
    {
     "data": {
      "text/html": [
       "<div>\n",
       "<style scoped>\n",
       "    .dataframe tbody tr th:only-of-type {\n",
       "        vertical-align: middle;\n",
       "    }\n",
       "\n",
       "    .dataframe tbody tr th {\n",
       "        vertical-align: top;\n",
       "    }\n",
       "\n",
       "    .dataframe thead th {\n",
       "        text-align: right;\n",
       "    }\n",
       "</style>\n",
       "<table border=\"1\" class=\"dataframe\">\n",
       "  <thead>\n",
       "    <tr style=\"text-align: right;\">\n",
       "      <th></th>\n",
       "      <th>w</th>\n",
       "      <th>x</th>\n",
       "      <th>y</th>\n",
       "      <th>z</th>\n",
       "    </tr>\n",
       "  </thead>\n",
       "  <tbody>\n",
       "    <tr>\n",
       "      <th>b</th>\n",
       "      <td>4</td>\n",
       "      <td>5</td>\n",
       "      <td>6</td>\n",
       "      <td>7</td>\n",
       "    </tr>\n",
       "  </tbody>\n",
       "</table>\n",
       "</div>"
      ],
      "text/plain": [
       "   w  x  y  z\n",
       "b  4  5  6  7"
      ]
     },
     "execution_count": 11,
     "metadata": {},
     "output_type": "execute_result"
    }
   ],
   "source": [
    "data[1:2]  #返回第2行，从0计，返回的是单行，通过有前后值的索引形式，如果采用data[1]则报错"
   ]
  },
  {
   "cell_type": "code",
   "execution_count": 12,
   "metadata": {},
   "outputs": [
    {
     "name": "stderr",
     "output_type": "stream",
     "text": [
      "/Users/jing/.virtualenvs/pydata/lib/python3.6/site-packages/ipykernel_launcher.py:1: DeprecationWarning: \n",
      ".ix is deprecated. Please use\n",
      ".loc for label based indexing or\n",
      ".iloc for positional indexing\n",
      "\n",
      "See the documentation here:\n",
      "http://pandas.pydata.org/pandas-docs/stable/indexing.html#ix-indexer-is-deprecated\n",
      "  \"\"\"Entry point for launching an IPython kernel.\n"
     ]
    },
    {
     "data": {
      "text/html": [
       "<div>\n",
       "<style scoped>\n",
       "    .dataframe tbody tr th:only-of-type {\n",
       "        vertical-align: middle;\n",
       "    }\n",
       "\n",
       "    .dataframe tbody tr th {\n",
       "        vertical-align: top;\n",
       "    }\n",
       "\n",
       "    .dataframe thead th {\n",
       "        text-align: right;\n",
       "    }\n",
       "</style>\n",
       "<table border=\"1\" class=\"dataframe\">\n",
       "  <thead>\n",
       "    <tr style=\"text-align: right;\">\n",
       "      <th></th>\n",
       "      <th>w</th>\n",
       "      <th>x</th>\n",
       "      <th>y</th>\n",
       "      <th>z</th>\n",
       "    </tr>\n",
       "  </thead>\n",
       "  <tbody>\n",
       "    <tr>\n",
       "      <th>b</th>\n",
       "      <td>4</td>\n",
       "      <td>5</td>\n",
       "      <td>6</td>\n",
       "      <td>7</td>\n",
       "    </tr>\n",
       "  </tbody>\n",
       "</table>\n",
       "</div>"
      ],
      "text/plain": [
       "   w  x  y  z\n",
       "b  4  5  6  7"
      ]
     },
     "execution_count": 12,
     "metadata": {},
     "output_type": "execute_result"
    }
   ],
   "source": [
    "data.ix[1:2]  #返回第2行的第三种方法，返回的是DataFrame，跟data[1:2]同"
   ]
  },
  {
   "cell_type": "code",
   "execution_count": 15,
   "metadata": {},
   "outputs": [
    {
     "data": {
      "text/html": [
       "<div>\n",
       "<style scoped>\n",
       "    .dataframe tbody tr th:only-of-type {\n",
       "        vertical-align: middle;\n",
       "    }\n",
       "\n",
       "    .dataframe tbody tr th {\n",
       "        vertical-align: top;\n",
       "    }\n",
       "\n",
       "    .dataframe thead th {\n",
       "        text-align: right;\n",
       "    }\n",
       "</style>\n",
       "<table border=\"1\" class=\"dataframe\">\n",
       "  <thead>\n",
       "    <tr style=\"text-align: right;\">\n",
       "      <th></th>\n",
       "      <th>w</th>\n",
       "      <th>x</th>\n",
       "      <th>y</th>\n",
       "      <th>z</th>\n",
       "    </tr>\n",
       "  </thead>\n",
       "  <tbody>\n",
       "    <tr>\n",
       "      <th>b</th>\n",
       "      <td>4</td>\n",
       "      <td>5</td>\n",
       "      <td>6</td>\n",
       "      <td>7</td>\n",
       "    </tr>\n",
       "  </tbody>\n",
       "</table>\n",
       "</div>"
      ],
      "text/plain": [
       "   w  x  y  z\n",
       "b  4  5  6  7"
      ]
     },
     "execution_count": 15,
     "metadata": {},
     "output_type": "execute_result"
    }
   ],
   "source": [
    "data.iloc[1:2]  # for positional indexing"
   ]
  },
  {
   "cell_type": "code",
   "execution_count": 18,
   "metadata": {},
   "outputs": [
    {
     "data": {
      "text/plain": [
       "w    0\n",
       "x    1\n",
       "y    2\n",
       "z    3\n",
       "Name: a, dtype: int64"
      ]
     },
     "execution_count": 18,
     "metadata": {},
     "output_type": "execute_result"
    }
   ],
   "source": [
    "data.loc['a']  # for label based indexing"
   ]
  },
  {
   "cell_type": "code",
   "execution_count": 19,
   "metadata": {},
   "outputs": [
    {
     "data": {
      "text/html": [
       "<div>\n",
       "<style scoped>\n",
       "    .dataframe tbody tr th:only-of-type {\n",
       "        vertical-align: middle;\n",
       "    }\n",
       "\n",
       "    .dataframe tbody tr th {\n",
       "        vertical-align: top;\n",
       "    }\n",
       "\n",
       "    .dataframe thead th {\n",
       "        text-align: right;\n",
       "    }\n",
       "</style>\n",
       "<table border=\"1\" class=\"dataframe\">\n",
       "  <thead>\n",
       "    <tr style=\"text-align: right;\">\n",
       "      <th></th>\n",
       "      <th>w</th>\n",
       "      <th>x</th>\n",
       "      <th>y</th>\n",
       "      <th>z</th>\n",
       "    </tr>\n",
       "  </thead>\n",
       "  <tbody>\n",
       "    <tr>\n",
       "      <th>a</th>\n",
       "      <td>0</td>\n",
       "      <td>1</td>\n",
       "      <td>2</td>\n",
       "      <td>3</td>\n",
       "    </tr>\n",
       "    <tr>\n",
       "      <th>b</th>\n",
       "      <td>4</td>\n",
       "      <td>5</td>\n",
       "      <td>6</td>\n",
       "      <td>7</td>\n",
       "    </tr>\n",
       "  </tbody>\n",
       "</table>\n",
       "</div>"
      ],
      "text/plain": [
       "   w  x  y  z\n",
       "a  0  1  2  3\n",
       "b  4  5  6  7"
      ]
     },
     "execution_count": 19,
     "metadata": {},
     "output_type": "execute_result"
    }
   ],
   "source": [
    "data['a':'b']  #利用index值进行切片，返回的是**前闭后闭**的DataFrame，即末端是包含的"
   ]
  },
  {
   "cell_type": "code",
   "execution_count": 20,
   "metadata": {},
   "outputs": [
    {
     "data": {
      "text/html": [
       "<div>\n",
       "<style scoped>\n",
       "    .dataframe tbody tr th:only-of-type {\n",
       "        vertical-align: middle;\n",
       "    }\n",
       "\n",
       "    .dataframe tbody tr th {\n",
       "        vertical-align: top;\n",
       "    }\n",
       "\n",
       "    .dataframe thead th {\n",
       "        text-align: right;\n",
       "    }\n",
       "</style>\n",
       "<table border=\"1\" class=\"dataframe\">\n",
       "  <thead>\n",
       "    <tr style=\"text-align: right;\">\n",
       "      <th></th>\n",
       "      <th>w</th>\n",
       "      <th>x</th>\n",
       "      <th>y</th>\n",
       "      <th>z</th>\n",
       "    </tr>\n",
       "  </thead>\n",
       "  <tbody>\n",
       "    <tr>\n",
       "      <th>a</th>\n",
       "      <td>0</td>\n",
       "      <td>1</td>\n",
       "      <td>2</td>\n",
       "      <td>3</td>\n",
       "    </tr>\n",
       "    <tr>\n",
       "      <th>b</th>\n",
       "      <td>4</td>\n",
       "      <td>5</td>\n",
       "      <td>6</td>\n",
       "      <td>7</td>\n",
       "    </tr>\n",
       "    <tr>\n",
       "      <th>c</th>\n",
       "      <td>8</td>\n",
       "      <td>9</td>\n",
       "      <td>10</td>\n",
       "      <td>11</td>\n",
       "    </tr>\n",
       "    <tr>\n",
       "      <th>d</th>\n",
       "      <td>12</td>\n",
       "      <td>13</td>\n",
       "      <td>14</td>\n",
       "      <td>15</td>\n",
       "    </tr>\n",
       "  </tbody>\n",
       "</table>\n",
       "</div>"
      ],
      "text/plain": [
       "    w   x   y   z\n",
       "a   0   1   2   3\n",
       "b   4   5   6   7\n",
       "c   8   9  10  11\n",
       "d  12  13  14  15"
      ]
     },
     "execution_count": 20,
     "metadata": {},
     "output_type": "execute_result"
    }
   ],
   "source": [
    "data.head()  #返回data的前几行数据，默认为前五行，需要前十行则data.head(10)"
   ]
  },
  {
   "cell_type": "code",
   "execution_count": 21,
   "metadata": {},
   "outputs": [
    {
     "data": {
      "text/html": [
       "<div>\n",
       "<style scoped>\n",
       "    .dataframe tbody tr th:only-of-type {\n",
       "        vertical-align: middle;\n",
       "    }\n",
       "\n",
       "    .dataframe tbody tr th {\n",
       "        vertical-align: top;\n",
       "    }\n",
       "\n",
       "    .dataframe thead th {\n",
       "        text-align: right;\n",
       "    }\n",
       "</style>\n",
       "<table border=\"1\" class=\"dataframe\">\n",
       "  <thead>\n",
       "    <tr style=\"text-align: right;\">\n",
       "      <th></th>\n",
       "      <th>w</th>\n",
       "      <th>x</th>\n",
       "      <th>y</th>\n",
       "      <th>z</th>\n",
       "    </tr>\n",
       "  </thead>\n",
       "  <tbody>\n",
       "    <tr>\n",
       "      <th>a</th>\n",
       "      <td>0</td>\n",
       "      <td>1</td>\n",
       "      <td>2</td>\n",
       "      <td>3</td>\n",
       "    </tr>\n",
       "    <tr>\n",
       "      <th>b</th>\n",
       "      <td>4</td>\n",
       "      <td>5</td>\n",
       "      <td>6</td>\n",
       "      <td>7</td>\n",
       "    </tr>\n",
       "    <tr>\n",
       "      <th>c</th>\n",
       "      <td>8</td>\n",
       "      <td>9</td>\n",
       "      <td>10</td>\n",
       "      <td>11</td>\n",
       "    </tr>\n",
       "    <tr>\n",
       "      <th>d</th>\n",
       "      <td>12</td>\n",
       "      <td>13</td>\n",
       "      <td>14</td>\n",
       "      <td>15</td>\n",
       "    </tr>\n",
       "  </tbody>\n",
       "</table>\n",
       "</div>"
      ],
      "text/plain": [
       "    w   x   y   z\n",
       "a   0   1   2   3\n",
       "b   4   5   6   7\n",
       "c   8   9  10  11\n",
       "d  12  13  14  15"
      ]
     },
     "execution_count": 21,
     "metadata": {},
     "output_type": "execute_result"
    }
   ],
   "source": [
    "data.tail()  #返回data的后几行数据，默认为后五行，需要后十行则data.tail(10)"
   ]
  },
  {
   "cell_type": "code",
   "execution_count": 22,
   "metadata": {},
   "outputs": [
    {
     "data": {
      "text/plain": [
       "w    12\n",
       "x    13\n",
       "y    14\n",
       "z    15\n",
       "Name: d, dtype: int64"
      ]
     },
     "execution_count": 22,
     "metadata": {},
     "output_type": "execute_result"
    }
   ],
   "source": [
    "data.iloc[-1]   #选取DataFrame最后一行，返回的是Series"
   ]
  },
  {
   "cell_type": "code",
   "execution_count": 23,
   "metadata": {},
   "outputs": [
    {
     "data": {
      "text/html": [
       "<div>\n",
       "<style scoped>\n",
       "    .dataframe tbody tr th:only-of-type {\n",
       "        vertical-align: middle;\n",
       "    }\n",
       "\n",
       "    .dataframe tbody tr th {\n",
       "        vertical-align: top;\n",
       "    }\n",
       "\n",
       "    .dataframe thead th {\n",
       "        text-align: right;\n",
       "    }\n",
       "</style>\n",
       "<table border=\"1\" class=\"dataframe\">\n",
       "  <thead>\n",
       "    <tr style=\"text-align: right;\">\n",
       "      <th></th>\n",
       "      <th>w</th>\n",
       "      <th>x</th>\n",
       "      <th>y</th>\n",
       "      <th>z</th>\n",
       "    </tr>\n",
       "  </thead>\n",
       "  <tbody>\n",
       "    <tr>\n",
       "      <th>d</th>\n",
       "      <td>12</td>\n",
       "      <td>13</td>\n",
       "      <td>14</td>\n",
       "      <td>15</td>\n",
       "    </tr>\n",
       "  </tbody>\n",
       "</table>\n",
       "</div>"
      ],
      "text/plain": [
       "    w   x   y   z\n",
       "d  12  13  14  15"
      ]
     },
     "execution_count": 23,
     "metadata": {},
     "output_type": "execute_result"
    }
   ],
   "source": [
    "data.iloc[-1:]   #选取DataFrame最后一行，返回的是DataFrame"
   ]
  },
  {
   "cell_type": "code",
   "execution_count": 24,
   "metadata": {},
   "outputs": [
    {
     "data": {
      "text/plain": [
       "w    0\n",
       "x    1\n",
       "Name: a, dtype: int64"
      ]
     },
     "execution_count": 24,
     "metadata": {},
     "output_type": "execute_result"
    }
   ],
   "source": [
    "data.loc['a',['w','x']]   #返回‘a’行'w'、'x'列，这种用于选取行索引列索引已知"
   ]
  },
  {
   "cell_type": "code",
   "execution_count": 25,
   "metadata": {},
   "outputs": [
    {
     "data": {
      "text/plain": [
       "5"
      ]
     },
     "execution_count": 25,
     "metadata": {},
     "output_type": "execute_result"
    }
   ],
   "source": [
    "data.iat[1,1]   #选取第二行第二列，用于已知行、列位置的选取"
   ]
  },
  {
   "cell_type": "code",
   "execution_count": 26,
   "metadata": {},
   "outputs": [
    {
     "data": {
      "text/plain": [
       "0    0.0\n",
       "1    1.0\n",
       "2    2.0\n",
       "dtype: float64"
      ]
     },
     "execution_count": 26,
     "metadata": {},
     "output_type": "execute_result"
    }
   ],
   "source": [
    "ser"
   ]
  },
  {
   "cell_type": "code",
   "execution_count": 27,
   "metadata": {},
   "outputs": [],
   "source": [
    "data = DataFrame(np.arange(15).reshape(3,5),index=['one','two','three'],columns=['a','b','c','d','e'])"
   ]
  },
  {
   "cell_type": "code",
   "execution_count": 28,
   "metadata": {},
   "outputs": [
    {
     "data": {
      "text/html": [
       "<div>\n",
       "<style scoped>\n",
       "    .dataframe tbody tr th:only-of-type {\n",
       "        vertical-align: middle;\n",
       "    }\n",
       "\n",
       "    .dataframe tbody tr th {\n",
       "        vertical-align: top;\n",
       "    }\n",
       "\n",
       "    .dataframe thead th {\n",
       "        text-align: right;\n",
       "    }\n",
       "</style>\n",
       "<table border=\"1\" class=\"dataframe\">\n",
       "  <thead>\n",
       "    <tr style=\"text-align: right;\">\n",
       "      <th></th>\n",
       "      <th>a</th>\n",
       "      <th>b</th>\n",
       "      <th>c</th>\n",
       "      <th>d</th>\n",
       "      <th>e</th>\n",
       "    </tr>\n",
       "  </thead>\n",
       "  <tbody>\n",
       "    <tr>\n",
       "      <th>one</th>\n",
       "      <td>0</td>\n",
       "      <td>1</td>\n",
       "      <td>2</td>\n",
       "      <td>3</td>\n",
       "      <td>4</td>\n",
       "    </tr>\n",
       "    <tr>\n",
       "      <th>two</th>\n",
       "      <td>5</td>\n",
       "      <td>6</td>\n",
       "      <td>7</td>\n",
       "      <td>8</td>\n",
       "      <td>9</td>\n",
       "    </tr>\n",
       "    <tr>\n",
       "      <th>three</th>\n",
       "      <td>10</td>\n",
       "      <td>11</td>\n",
       "      <td>12</td>\n",
       "      <td>13</td>\n",
       "      <td>14</td>\n",
       "    </tr>\n",
       "  </tbody>\n",
       "</table>\n",
       "</div>"
      ],
      "text/plain": [
       "        a   b   c   d   e\n",
       "one     0   1   2   3   4\n",
       "two     5   6   7   8   9\n",
       "three  10  11  12  13  14"
      ]
     },
     "execution_count": 28,
     "metadata": {},
     "output_type": "execute_result"
    }
   ],
   "source": [
    "data"
   ]
  },
  {
   "cell_type": "code",
   "execution_count": 1,
   "metadata": {},
   "outputs": [],
   "source": [
    "from pandas.io.parsers import read_csv"
   ]
  },
  {
   "cell_type": "code",
   "execution_count": 2,
   "metadata": {},
   "outputs": [],
   "source": [
    "df = read_csv('../data/tencent_hr.csv')  #从CSV中读取"
   ]
  },
  {
   "cell_type": "code",
   "execution_count": 3,
   "metadata": {},
   "outputs": [
    {
     "data": {
      "text/html": [
       "<div>\n",
       "<style scoped>\n",
       "    .dataframe tbody tr th:only-of-type {\n",
       "        vertical-align: middle;\n",
       "    }\n",
       "\n",
       "    .dataframe tbody tr th {\n",
       "        vertical-align: top;\n",
       "    }\n",
       "\n",
       "    .dataframe thead th {\n",
       "        text-align: right;\n",
       "    }\n",
       "</style>\n",
       "<table border=\"1\" class=\"dataframe\">\n",
       "  <thead>\n",
       "    <tr style=\"text-align: right;\">\n",
       "      <th></th>\n",
       "      <th>work_place</th>\n",
       "      <th>work_type</th>\n",
       "      <th>work_time</th>\n",
       "      <th>work_count</th>\n",
       "      <th>work_name</th>\n",
       "    </tr>\n",
       "  </thead>\n",
       "  <tbody>\n",
       "    <tr>\n",
       "      <th>0</th>\n",
       "      <td>北京</td>\n",
       "      <td>技术类</td>\n",
       "      <td>2017-12-20</td>\n",
       "      <td>1</td>\n",
       "      <td>MIG16-位置大数据机器学习/深度学习算法研究员（北京）</td>\n",
       "    </tr>\n",
       "    <tr>\n",
       "      <th>1</th>\n",
       "      <td>北京</td>\n",
       "      <td>技术类</td>\n",
       "      <td>2017-12-20</td>\n",
       "      <td>1</td>\n",
       "      <td>WXG08-122 微信数据挖掘算法高级工程师（北京）</td>\n",
       "    </tr>\n",
       "    <tr>\n",
       "      <th>2</th>\n",
       "      <td>北京</td>\n",
       "      <td>技术类</td>\n",
       "      <td>2017-12-20</td>\n",
       "      <td>1</td>\n",
       "      <td>OMG097-测试开发工程师（北京）</td>\n",
       "    </tr>\n",
       "    <tr>\n",
       "      <th>3</th>\n",
       "      <td>北京</td>\n",
       "      <td>技术类</td>\n",
       "      <td>2017-12-20</td>\n",
       "      <td>2</td>\n",
       "      <td>OMG236-腾讯视频推荐算法高级工程师（北京）</td>\n",
       "    </tr>\n",
       "    <tr>\n",
       "      <th>4</th>\n",
       "      <td>北京</td>\n",
       "      <td>技术类</td>\n",
       "      <td>2017-12-20</td>\n",
       "      <td>1</td>\n",
       "      <td>23671-高级数据分析开发工程师(北京）</td>\n",
       "    </tr>\n",
       "    <tr>\n",
       "      <th>5</th>\n",
       "      <td>北京</td>\n",
       "      <td>技术类</td>\n",
       "      <td>2017-12-20</td>\n",
       "      <td>1</td>\n",
       "      <td>22090-天天快报-文本分析与挖掘高级工程师（北京）</td>\n",
       "    </tr>\n",
       "    <tr>\n",
       "      <th>6</th>\n",
       "      <td>北京</td>\n",
       "      <td>技术类</td>\n",
       "      <td>2017-12-20</td>\n",
       "      <td>1</td>\n",
       "      <td>WXG08-121 微信机器学习算法工程师（北京）</td>\n",
       "    </tr>\n",
       "    <tr>\n",
       "      <th>7</th>\n",
       "      <td>北京</td>\n",
       "      <td>技术类</td>\n",
       "      <td>2017-12-20</td>\n",
       "      <td>3</td>\n",
       "      <td>23674-腾讯新闻高级系统测试工程师</td>\n",
       "    </tr>\n",
       "    <tr>\n",
       "      <th>8</th>\n",
       "      <td>北京</td>\n",
       "      <td>技术类</td>\n",
       "      <td>2017-12-20</td>\n",
       "      <td>1</td>\n",
       "      <td>SA-腾讯社交广告高级系统测试工程师（北京）</td>\n",
       "    </tr>\n",
       "    <tr>\n",
       "      <th>9</th>\n",
       "      <td>北京</td>\n",
       "      <td>技术类</td>\n",
       "      <td>2017-12-19</td>\n",
       "      <td>2</td>\n",
       "      <td>22989-腾讯云高级后台开发工程师（北京）</td>\n",
       "    </tr>\n",
       "    <tr>\n",
       "      <th>10</th>\n",
       "      <td>北京</td>\n",
       "      <td>技术类</td>\n",
       "      <td>2017-12-19</td>\n",
       "      <td>2</td>\n",
       "      <td>22989-云计算研发工程师（北京）</td>\n",
       "    </tr>\n",
       "    <tr>\n",
       "      <th>11</th>\n",
       "      <td>北京</td>\n",
       "      <td>技术类</td>\n",
       "      <td>2017-12-19</td>\n",
       "      <td>3</td>\n",
       "      <td>22989-腾讯云高级后台开发(互联网业务)（北京）</td>\n",
       "    </tr>\n",
       "    <tr>\n",
       "      <th>12</th>\n",
       "      <td>北京</td>\n",
       "      <td>技术类</td>\n",
       "      <td>2017-12-19</td>\n",
       "      <td>1</td>\n",
       "      <td>OMG097-数据挖掘工程师(北京）</td>\n",
       "    </tr>\n",
       "    <tr>\n",
       "      <th>13</th>\n",
       "      <td>北京</td>\n",
       "      <td>技术类</td>\n",
       "      <td>2017-12-18</td>\n",
       "      <td>2</td>\n",
       "      <td>23674-搜索架构高级工程师</td>\n",
       "    </tr>\n",
       "    <tr>\n",
       "      <th>14</th>\n",
       "      <td>北京</td>\n",
       "      <td>产品/项目类</td>\n",
       "      <td>2017-12-18</td>\n",
       "      <td>1</td>\n",
       "      <td>22090-天天快报-数据产品组组长（北京）</td>\n",
       "    </tr>\n",
       "    <tr>\n",
       "      <th>15</th>\n",
       "      <td>北京</td>\n",
       "      <td>技术类</td>\n",
       "      <td>2017-12-19</td>\n",
       "      <td>3</td>\n",
       "      <td>TEG02-控制器研发工程师（北京）</td>\n",
       "    </tr>\n",
       "    <tr>\n",
       "      <th>16</th>\n",
       "      <td>北京</td>\n",
       "      <td>技术类</td>\n",
       "      <td>2017-12-19</td>\n",
       "      <td>1</td>\n",
       "      <td>22989-高级图像处理算法工程师（北京）</td>\n",
       "    </tr>\n",
       "    <tr>\n",
       "      <th>17</th>\n",
       "      <td>北京</td>\n",
       "      <td>技术类</td>\n",
       "      <td>2017-12-19</td>\n",
       "      <td>1</td>\n",
       "      <td>WXG08-121 微信模式识别自然语言处理算法工程师（北京）</td>\n",
       "    </tr>\n",
       "    <tr>\n",
       "      <th>18</th>\n",
       "      <td>北京</td>\n",
       "      <td>技术类</td>\n",
       "      <td>2017-12-18</td>\n",
       "      <td>2</td>\n",
       "      <td>23674-新闻搜索算法高级工程师</td>\n",
       "    </tr>\n",
       "    <tr>\n",
       "      <th>19</th>\n",
       "      <td>北京</td>\n",
       "      <td>技术类</td>\n",
       "      <td>2017-12-18</td>\n",
       "      <td>1</td>\n",
       "      <td>OMG097-后台开发高级工程师(北京）</td>\n",
       "    </tr>\n",
       "    <tr>\n",
       "      <th>20</th>\n",
       "      <td>北京</td>\n",
       "      <td>技术类</td>\n",
       "      <td>2017-12-18</td>\n",
       "      <td>1</td>\n",
       "      <td>MIG03-数据评测工程师（北京）</td>\n",
       "    </tr>\n",
       "    <tr>\n",
       "      <th>21</th>\n",
       "      <td>北京</td>\n",
       "      <td>技术类</td>\n",
       "      <td>2017-12-16</td>\n",
       "      <td>2</td>\n",
       "      <td>OMG097-数据挖掘工程师(北京）</td>\n",
       "    </tr>\n",
       "    <tr>\n",
       "      <th>22</th>\n",
       "      <td>北京</td>\n",
       "      <td>技术类</td>\n",
       "      <td>2017-12-15</td>\n",
       "      <td>3</td>\n",
       "      <td>MIG07-系统安全研究员（北京）</td>\n",
       "    </tr>\n",
       "    <tr>\n",
       "      <th>23</th>\n",
       "      <td>北京</td>\n",
       "      <td>技术类</td>\n",
       "      <td>2017-12-15</td>\n",
       "      <td>1</td>\n",
       "      <td>SA-腾讯社交广告联盟策略开发工程师（北京）</td>\n",
       "    </tr>\n",
       "    <tr>\n",
       "      <th>24</th>\n",
       "      <td>北京</td>\n",
       "      <td>技术类</td>\n",
       "      <td>2017-12-14</td>\n",
       "      <td>1</td>\n",
       "      <td>23048-内容推荐算法高级工程师（北京）</td>\n",
       "    </tr>\n",
       "    <tr>\n",
       "      <th>25</th>\n",
       "      <td>北京</td>\n",
       "      <td>技术类</td>\n",
       "      <td>2017-12-18</td>\n",
       "      <td>1</td>\n",
       "      <td>MIG16-地图专题数据后台开发工程师-功能方向（北京）</td>\n",
       "    </tr>\n",
       "    <tr>\n",
       "      <th>26</th>\n",
       "      <td>北京</td>\n",
       "      <td>技术类</td>\n",
       "      <td>2017-12-15</td>\n",
       "      <td>3</td>\n",
       "      <td>MIG07-系统安全研究员（北京）</td>\n",
       "    </tr>\n",
       "    <tr>\n",
       "      <th>27</th>\n",
       "      <td>北京</td>\n",
       "      <td>技术类</td>\n",
       "      <td>2017-12-15</td>\n",
       "      <td>2</td>\n",
       "      <td>MIG16-地图数据高级后台工程师（北京）</td>\n",
       "    </tr>\n",
       "    <tr>\n",
       "      <th>28</th>\n",
       "      <td>北京</td>\n",
       "      <td>技术类</td>\n",
       "      <td>2017-12-14</td>\n",
       "      <td>1</td>\n",
       "      <td>TEG05-高级安全数据研究员(北京）</td>\n",
       "    </tr>\n",
       "    <tr>\n",
       "      <th>29</th>\n",
       "      <td>北京</td>\n",
       "      <td>技术类</td>\n",
       "      <td>2017-12-14</td>\n",
       "      <td>2</td>\n",
       "      <td>SA-腾讯社交广告算法工程师（质量研发中心 北京）</td>\n",
       "    </tr>\n",
       "    <tr>\n",
       "      <th>...</th>\n",
       "      <td>...</td>\n",
       "      <td>...</td>\n",
       "      <td>...</td>\n",
       "      <td>...</td>\n",
       "      <td>...</td>\n",
       "    </tr>\n",
       "    <tr>\n",
       "      <th>52</th>\n",
       "      <td>北京</td>\n",
       "      <td>技术类</td>\n",
       "      <td>2017-11-27</td>\n",
       "      <td>1</td>\n",
       "      <td>MIG16-地图导航后台开发工程师(北京)</td>\n",
       "    </tr>\n",
       "    <tr>\n",
       "      <th>53</th>\n",
       "      <td>北京</td>\n",
       "      <td>技术类</td>\n",
       "      <td>2017-11-26</td>\n",
       "      <td>1</td>\n",
       "      <td>23048-翻译君后台开发高级工程师（北京）</td>\n",
       "    </tr>\n",
       "    <tr>\n",
       "      <th>54</th>\n",
       "      <td>北京</td>\n",
       "      <td>技术类</td>\n",
       "      <td>2017-11-21</td>\n",
       "      <td>2</td>\n",
       "      <td>TEG03-高级算法研发工程师（深圳）</td>\n",
       "    </tr>\n",
       "    <tr>\n",
       "      <th>55</th>\n",
       "      <td>北京</td>\n",
       "      <td>技术类</td>\n",
       "      <td>2017-12-01</td>\n",
       "      <td>1</td>\n",
       "      <td>22989-云存储资深研发工程师（北京）</td>\n",
       "    </tr>\n",
       "    <tr>\n",
       "      <th>56</th>\n",
       "      <td>北京</td>\n",
       "      <td>技术类</td>\n",
       "      <td>2017-12-01</td>\n",
       "      <td>1</td>\n",
       "      <td>MIG15-自然语言处理高级算法研究员</td>\n",
       "    </tr>\n",
       "    <tr>\n",
       "      <th>57</th>\n",
       "      <td>北京</td>\n",
       "      <td>技术类</td>\n",
       "      <td>2017-11-26</td>\n",
       "      <td>1</td>\n",
       "      <td>SA-腾讯社交广告定向系统开发工程师（北京）</td>\n",
       "    </tr>\n",
       "    <tr>\n",
       "      <th>58</th>\n",
       "      <td>北京</td>\n",
       "      <td>技术类</td>\n",
       "      <td>2017-11-22</td>\n",
       "      <td>2</td>\n",
       "      <td>OMG236-腾讯视频自然语言处理高级工程师（北京）</td>\n",
       "    </tr>\n",
       "    <tr>\n",
       "      <th>59</th>\n",
       "      <td>北京</td>\n",
       "      <td>技术类</td>\n",
       "      <td>2017-11-21</td>\n",
       "      <td>1</td>\n",
       "      <td>17757-高级数据挖掘工程师（北京）</td>\n",
       "    </tr>\n",
       "    <tr>\n",
       "      <th>60</th>\n",
       "      <td>北京</td>\n",
       "      <td>技术类</td>\n",
       "      <td>2017-11-21</td>\n",
       "      <td>3</td>\n",
       "      <td>MIG16-地图导航惯导开发工程师（北京）</td>\n",
       "    </tr>\n",
       "    <tr>\n",
       "      <th>61</th>\n",
       "      <td>北京</td>\n",
       "      <td>技术类</td>\n",
       "      <td>2017-11-13</td>\n",
       "      <td>1</td>\n",
       "      <td>TEG17-AI LAB语音识别研发工程师(深圳）</td>\n",
       "    </tr>\n",
       "    <tr>\n",
       "      <th>62</th>\n",
       "      <td>北京</td>\n",
       "      <td>技术类</td>\n",
       "      <td>2017-11-08</td>\n",
       "      <td>1</td>\n",
       "      <td>MIG16-地图众包业务后台开发高级工程师（北京）</td>\n",
       "    </tr>\n",
       "    <tr>\n",
       "      <th>63</th>\n",
       "      <td>北京</td>\n",
       "      <td>技术类</td>\n",
       "      <td>2017-11-06</td>\n",
       "      <td>2</td>\n",
       "      <td>MIG16-自动驾驶数据平台大数据高级系统架构师(北京)</td>\n",
       "    </tr>\n",
       "    <tr>\n",
       "      <th>64</th>\n",
       "      <td>北京</td>\n",
       "      <td>技术类</td>\n",
       "      <td>2017-11-03</td>\n",
       "      <td>1</td>\n",
       "      <td>MIG16-地图POI数据挖掘高级研发工程师（北京）</td>\n",
       "    </tr>\n",
       "    <tr>\n",
       "      <th>65</th>\n",
       "      <td>北京</td>\n",
       "      <td>技术类</td>\n",
       "      <td>2017-11-16</td>\n",
       "      <td>1</td>\n",
       "      <td>SNG02-腾讯云汽车行业方案架构师（北京/上海/深圳）</td>\n",
       "    </tr>\n",
       "    <tr>\n",
       "      <th>66</th>\n",
       "      <td>北京</td>\n",
       "      <td>技术类</td>\n",
       "      <td>2017-11-08</td>\n",
       "      <td>1</td>\n",
       "      <td>23674-腾讯新闻后台测试组长</td>\n",
       "    </tr>\n",
       "    <tr>\n",
       "      <th>67</th>\n",
       "      <td>北京</td>\n",
       "      <td>技术类</td>\n",
       "      <td>2017-11-06</td>\n",
       "      <td>0</td>\n",
       "      <td>MIG16-自动驾驶数据平台高级后台开发工程师(北京)</td>\n",
       "    </tr>\n",
       "    <tr>\n",
       "      <th>68</th>\n",
       "      <td>北京</td>\n",
       "      <td>技术类</td>\n",
       "      <td>2017-11-03</td>\n",
       "      <td>1</td>\n",
       "      <td>MIG16-地图POI数据自然语言处理工程师（北京）</td>\n",
       "    </tr>\n",
       "    <tr>\n",
       "      <th>69</th>\n",
       "      <td>北京</td>\n",
       "      <td>技术类</td>\n",
       "      <td>2017-11-02</td>\n",
       "      <td>1</td>\n",
       "      <td>MIG16-地图后台高级研发工程师-融合方向（北京）</td>\n",
       "    </tr>\n",
       "    <tr>\n",
       "      <th>70</th>\n",
       "      <td>北京</td>\n",
       "      <td>技术类</td>\n",
       "      <td>2017-11-01</td>\n",
       "      <td>3</td>\n",
       "      <td>MIG16-AI算法研究（北京）</td>\n",
       "    </tr>\n",
       "    <tr>\n",
       "      <th>71</th>\n",
       "      <td>北京</td>\n",
       "      <td>技术类</td>\n",
       "      <td>2017-11-01</td>\n",
       "      <td>1</td>\n",
       "      <td>MIG16-基础架构工程师（北京）</td>\n",
       "    </tr>\n",
       "    <tr>\n",
       "      <th>72</th>\n",
       "      <td>北京</td>\n",
       "      <td>技术类</td>\n",
       "      <td>2017-10-30</td>\n",
       "      <td>2</td>\n",
       "      <td>MIG16-腾讯地图导航/步行骑行/公交后台开发工程师(北京)</td>\n",
       "    </tr>\n",
       "    <tr>\n",
       "      <th>73</th>\n",
       "      <td>北京</td>\n",
       "      <td>技术类</td>\n",
       "      <td>2017-10-26</td>\n",
       "      <td>1</td>\n",
       "      <td>MIG16-自动驾驶融合感知(北京)</td>\n",
       "    </tr>\n",
       "    <tr>\n",
       "      <th>74</th>\n",
       "      <td>北京</td>\n",
       "      <td>技术类</td>\n",
       "      <td>2017-10-26</td>\n",
       "      <td>1</td>\n",
       "      <td>MIG16-自动驾驶融合定位(北京)</td>\n",
       "    </tr>\n",
       "    <tr>\n",
       "      <th>75</th>\n",
       "      <td>北京</td>\n",
       "      <td>技术类</td>\n",
       "      <td>2017-11-01</td>\n",
       "      <td>2</td>\n",
       "      <td>MIG16-运营后台开发工程师（北京）</td>\n",
       "    </tr>\n",
       "    <tr>\n",
       "      <th>76</th>\n",
       "      <td>北京</td>\n",
       "      <td>技术类</td>\n",
       "      <td>2017-11-01</td>\n",
       "      <td>1</td>\n",
       "      <td>MIG16-地图大数据挖掘工程师（北京）</td>\n",
       "    </tr>\n",
       "    <tr>\n",
       "      <th>77</th>\n",
       "      <td>北京</td>\n",
       "      <td>技术类</td>\n",
       "      <td>2017-10-30</td>\n",
       "      <td>1</td>\n",
       "      <td>22090-天天快报-图像算法工程师（北京）</td>\n",
       "    </tr>\n",
       "    <tr>\n",
       "      <th>78</th>\n",
       "      <td>北京</td>\n",
       "      <td>技术类</td>\n",
       "      <td>2017-10-26</td>\n",
       "      <td>1</td>\n",
       "      <td>MIG16-自动驾驶深度学习(北京)</td>\n",
       "    </tr>\n",
       "    <tr>\n",
       "      <th>79</th>\n",
       "      <td>北京</td>\n",
       "      <td>技术类</td>\n",
       "      <td>2017-10-25</td>\n",
       "      <td>1</td>\n",
       "      <td>MIG16-计算机视觉高级算法工程师（北京）</td>\n",
       "    </tr>\n",
       "    <tr>\n",
       "      <th>80</th>\n",
       "      <td>北京</td>\n",
       "      <td>技术类</td>\n",
       "      <td>2017-09-27</td>\n",
       "      <td>1</td>\n",
       "      <td>23048-翻译君语料数据工程师（北京）</td>\n",
       "    </tr>\n",
       "    <tr>\n",
       "      <th>81</th>\n",
       "      <td>北京</td>\n",
       "      <td>技术类</td>\n",
       "      <td>2017-09-27</td>\n",
       "      <td>2</td>\n",
       "      <td>SA-腾讯社交广告测试开发工程师（北京）</td>\n",
       "    </tr>\n",
       "  </tbody>\n",
       "</table>\n",
       "<p>82 rows × 5 columns</p>\n",
       "</div>"
      ],
      "text/plain": [
       "   work_place work_type   work_time  work_count  \\\n",
       "0          北京       技术类  2017-12-20           1   \n",
       "1          北京       技术类  2017-12-20           1   \n",
       "2          北京       技术类  2017-12-20           1   \n",
       "3          北京       技术类  2017-12-20           2   \n",
       "4          北京       技术类  2017-12-20           1   \n",
       "5          北京       技术类  2017-12-20           1   \n",
       "6          北京       技术类  2017-12-20           1   \n",
       "7          北京       技术类  2017-12-20           3   \n",
       "8          北京       技术类  2017-12-20           1   \n",
       "9          北京       技术类  2017-12-19           2   \n",
       "10         北京       技术类  2017-12-19           2   \n",
       "11         北京       技术类  2017-12-19           3   \n",
       "12         北京       技术类  2017-12-19           1   \n",
       "13         北京       技术类  2017-12-18           2   \n",
       "14         北京    产品/项目类  2017-12-18           1   \n",
       "15         北京       技术类  2017-12-19           3   \n",
       "16         北京       技术类  2017-12-19           1   \n",
       "17         北京       技术类  2017-12-19           1   \n",
       "18         北京       技术类  2017-12-18           2   \n",
       "19         北京       技术类  2017-12-18           1   \n",
       "20         北京       技术类  2017-12-18           1   \n",
       "21         北京       技术类  2017-12-16           2   \n",
       "22         北京       技术类  2017-12-15           3   \n",
       "23         北京       技术类  2017-12-15           1   \n",
       "24         北京       技术类  2017-12-14           1   \n",
       "25         北京       技术类  2017-12-18           1   \n",
       "26         北京       技术类  2017-12-15           3   \n",
       "27         北京       技术类  2017-12-15           2   \n",
       "28         北京       技术类  2017-12-14           1   \n",
       "29         北京       技术类  2017-12-14           2   \n",
       "..        ...       ...         ...         ...   \n",
       "52         北京       技术类  2017-11-27           1   \n",
       "53         北京       技术类  2017-11-26           1   \n",
       "54         北京       技术类  2017-11-21           2   \n",
       "55         北京       技术类  2017-12-01           1   \n",
       "56         北京       技术类  2017-12-01           1   \n",
       "57         北京       技术类  2017-11-26           1   \n",
       "58         北京       技术类  2017-11-22           2   \n",
       "59         北京       技术类  2017-11-21           1   \n",
       "60         北京       技术类  2017-11-21           3   \n",
       "61         北京       技术类  2017-11-13           1   \n",
       "62         北京       技术类  2017-11-08           1   \n",
       "63         北京       技术类  2017-11-06           2   \n",
       "64         北京       技术类  2017-11-03           1   \n",
       "65         北京       技术类  2017-11-16           1   \n",
       "66         北京       技术类  2017-11-08           1   \n",
       "67         北京       技术类  2017-11-06           0   \n",
       "68         北京       技术类  2017-11-03           1   \n",
       "69         北京       技术类  2017-11-02           1   \n",
       "70         北京       技术类  2017-11-01           3   \n",
       "71         北京       技术类  2017-11-01           1   \n",
       "72         北京       技术类  2017-10-30           2   \n",
       "73         北京       技术类  2017-10-26           1   \n",
       "74         北京       技术类  2017-10-26           1   \n",
       "75         北京       技术类  2017-11-01           2   \n",
       "76         北京       技术类  2017-11-01           1   \n",
       "77         北京       技术类  2017-10-30           1   \n",
       "78         北京       技术类  2017-10-26           1   \n",
       "79         北京       技术类  2017-10-25           1   \n",
       "80         北京       技术类  2017-09-27           1   \n",
       "81         北京       技术类  2017-09-27           2   \n",
       "\n",
       "                          work_name  \n",
       "0     MIG16-位置大数据机器学习/深度学习算法研究员（北京）  \n",
       "1       WXG08-122 微信数据挖掘算法高级工程师（北京）  \n",
       "2                OMG097-测试开发工程师（北京）  \n",
       "3          OMG236-腾讯视频推荐算法高级工程师（北京）  \n",
       "4             23671-高级数据分析开发工程师(北京）  \n",
       "5       22090-天天快报-文本分析与挖掘高级工程师（北京）  \n",
       "6         WXG08-121 微信机器学习算法工程师（北京）  \n",
       "7               23674-腾讯新闻高级系统测试工程师  \n",
       "8            SA-腾讯社交广告高级系统测试工程师（北京）  \n",
       "9            22989-腾讯云高级后台开发工程师（北京）  \n",
       "10               22989-云计算研发工程师（北京）  \n",
       "11       22989-腾讯云高级后台开发(互联网业务)（北京）  \n",
       "12               OMG097-数据挖掘工程师(北京）  \n",
       "13                  23674-搜索架构高级工程师  \n",
       "14           22090-天天快报-数据产品组组长（北京）  \n",
       "15               TEG02-控制器研发工程师（北京）  \n",
       "16            22989-高级图像处理算法工程师（北京）  \n",
       "17  WXG08-121 微信模式识别自然语言处理算法工程师（北京）  \n",
       "18                23674-新闻搜索算法高级工程师  \n",
       "19             OMG097-后台开发高级工程师(北京）  \n",
       "20                MIG03-数据评测工程师（北京）  \n",
       "21               OMG097-数据挖掘工程师(北京）  \n",
       "22                MIG07-系统安全研究员（北京）  \n",
       "23           SA-腾讯社交广告联盟策略开发工程师（北京）  \n",
       "24            23048-内容推荐算法高级工程师（北京）  \n",
       "25     MIG16-地图专题数据后台开发工程师-功能方向（北京）  \n",
       "26                MIG07-系统安全研究员（北京）  \n",
       "27            MIG16-地图数据高级后台工程师（北京）  \n",
       "28              TEG05-高级安全数据研究员(北京）  \n",
       "29        SA-腾讯社交广告算法工程师（质量研发中心 北京）  \n",
       "..                              ...  \n",
       "52            MIG16-地图导航后台开发工程师(北京)  \n",
       "53           23048-翻译君后台开发高级工程师（北京）  \n",
       "54              TEG03-高级算法研发工程师（深圳）  \n",
       "55             22989-云存储资深研发工程师（北京）  \n",
       "56              MIG15-自然语言处理高级算法研究员  \n",
       "57           SA-腾讯社交广告定向系统开发工程师（北京）  \n",
       "58       OMG236-腾讯视频自然语言处理高级工程师（北京）  \n",
       "59              17757-高级数据挖掘工程师（北京）  \n",
       "60            MIG16-地图导航惯导开发工程师（北京）  \n",
       "61        TEG17-AI LAB语音识别研发工程师(深圳）  \n",
       "62        MIG16-地图众包业务后台开发高级工程师（北京）  \n",
       "63     MIG16-自动驾驶数据平台大数据高级系统架构师(北京)  \n",
       "64       MIG16-地图POI数据挖掘高级研发工程师（北京）  \n",
       "65     SNG02-腾讯云汽车行业方案架构师（北京/上海/深圳）  \n",
       "66                 23674-腾讯新闻后台测试组长  \n",
       "67      MIG16-自动驾驶数据平台高级后台开发工程师(北京)  \n",
       "68       MIG16-地图POI数据自然语言处理工程师（北京）  \n",
       "69       MIG16-地图后台高级研发工程师-融合方向（北京）  \n",
       "70                 MIG16-AI算法研究（北京）  \n",
       "71                MIG16-基础架构工程师（北京）  \n",
       "72  MIG16-腾讯地图导航/步行骑行/公交后台开发工程师(北京)  \n",
       "73               MIG16-自动驾驶融合感知(北京)  \n",
       "74               MIG16-自动驾驶融合定位(北京)  \n",
       "75              MIG16-运营后台开发工程师（北京）  \n",
       "76             MIG16-地图大数据挖掘工程师（北京）  \n",
       "77           22090-天天快报-图像算法工程师（北京）  \n",
       "78               MIG16-自动驾驶深度学习(北京)  \n",
       "79           MIG16-计算机视觉高级算法工程师（北京）  \n",
       "80             23048-翻译君语料数据工程师（北京）  \n",
       "81             SA-腾讯社交广告测试开发工程师（北京）  \n",
       "\n",
       "[82 rows x 5 columns]"
      ]
     },
     "execution_count": 3,
     "metadata": {},
     "output_type": "execute_result"
    }
   ],
   "source": [
    "df"
   ]
  },
  {
   "cell_type": "code",
   "execution_count": 4,
   "metadata": {},
   "outputs": [
    {
     "data": {
      "text/plain": [
       "(82, 5)"
      ]
     },
     "execution_count": 4,
     "metadata": {},
     "output_type": "execute_result"
    }
   ],
   "source": [
    "df.shape  #数据结构的形状"
   ]
  },
  {
   "cell_type": "code",
   "execution_count": 6,
   "metadata": {},
   "outputs": [
    {
     "data": {
      "text/plain": [
       "82"
      ]
     },
     "execution_count": 6,
     "metadata": {},
     "output_type": "execute_result"
    }
   ],
   "source": [
    "len(df)"
   ]
  },
  {
   "cell_type": "code",
   "execution_count": 7,
   "metadata": {},
   "outputs": [
    {
     "data": {
      "text/plain": [
       "Index(['work_place', 'work_type', 'work_time', 'work_count', 'work_name'], dtype='object')"
      ]
     },
     "execution_count": 7,
     "metadata": {},
     "output_type": "execute_result"
    }
   ],
   "source": [
    "df.columns"
   ]
  },
  {
   "cell_type": "code",
   "execution_count": 8,
   "metadata": {},
   "outputs": [
    {
     "data": {
      "text/plain": [
       "work_place    object\n",
       "work_type     object\n",
       "work_time     object\n",
       "work_count     int64\n",
       "work_name     object\n",
       "dtype: object"
      ]
     },
     "execution_count": 8,
     "metadata": {},
     "output_type": "execute_result"
    }
   ],
   "source": [
    "df.dtypes"
   ]
  },
  {
   "cell_type": "code",
   "execution_count": 9,
   "metadata": {},
   "outputs": [
    {
     "data": {
      "text/plain": [
       "RangeIndex(start=0, stop=82, step=1)"
      ]
     },
     "execution_count": 9,
     "metadata": {},
     "output_type": "execute_result"
    }
   ],
   "source": [
    "df.index"
   ]
  },
  {
   "cell_type": "code",
   "execution_count": 10,
   "metadata": {},
   "outputs": [
    {
     "data": {
      "text/plain": [
       "array([['北京', '技术类', '2017-12-20', 1, 'MIG16-位置大数据机器学习/深度学习算法研究员（北京）'],\n",
       "       ['北京', '技术类', '2017-12-20', 1, 'WXG08-122 微信数据挖掘算法高级工程师（北京）'],\n",
       "       ['北京', '技术类', '2017-12-20', 1, 'OMG097-测试开发工程师（北京）'],\n",
       "       ['北京', '技术类', '2017-12-20', 2, 'OMG236-腾讯视频推荐算法高级工程师（北京）'],\n",
       "       ['北京', '技术类', '2017-12-20', 1, '23671-高级数据分析开发工程师(北京）'],\n",
       "       ['北京', '技术类', '2017-12-20', 1, '22090-天天快报-文本分析与挖掘高级工程师（北京）'],\n",
       "       ['北京', '技术类', '2017-12-20', 1, 'WXG08-121 微信机器学习算法工程师（北京）'],\n",
       "       ['北京', '技术类', '2017-12-20', 3, '23674-腾讯新闻高级系统测试工程师'],\n",
       "       ['北京', '技术类', '2017-12-20', 1, 'SA-腾讯社交广告高级系统测试工程师（北京）'],\n",
       "       ['北京', '技术类', '2017-12-19', 2, '22989-腾讯云高级后台开发工程师（北京）'],\n",
       "       ['北京', '技术类', '2017-12-19', 2, '22989-云计算研发工程师（北京）'],\n",
       "       ['北京', '技术类', '2017-12-19', 3, '22989-腾讯云高级后台开发(互联网业务)（北京）'],\n",
       "       ['北京', '技术类', '2017-12-19', 1, 'OMG097-数据挖掘工程师(北京）'],\n",
       "       ['北京', '技术类', '2017-12-18', 2, '23674-搜索架构高级工程师'],\n",
       "       ['北京', '产品/项目类', '2017-12-18', 1, '22090-天天快报-数据产品组组长（北京）'],\n",
       "       ['北京', '技术类', '2017-12-19', 3, 'TEG02-控制器研发工程师（北京）'],\n",
       "       ['北京', '技术类', '2017-12-19', 1, '22989-高级图像处理算法工程师（北京）'],\n",
       "       ['北京', '技术类', '2017-12-19', 1, 'WXG08-121 微信模式识别自然语言处理算法工程师（北京）'],\n",
       "       ['北京', '技术类', '2017-12-18', 2, '23674-新闻搜索算法高级工程师'],\n",
       "       ['北京', '技术类', '2017-12-18', 1, 'OMG097-后台开发高级工程师(北京）'],\n",
       "       ['北京', '技术类', '2017-12-18', 1, 'MIG03-数据评测工程师（北京）'],\n",
       "       ['北京', '技术类', '2017-12-16', 2, 'OMG097-数据挖掘工程师(北京）'],\n",
       "       ['北京', '技术类', '2017-12-15', 3, 'MIG07-系统安全研究员（北京）'],\n",
       "       ['北京', '技术类', '2017-12-15', 1, 'SA-腾讯社交广告联盟策略开发工程师（北京）'],\n",
       "       ['北京', '技术类', '2017-12-14', 1, '23048-内容推荐算法高级工程师（北京）'],\n",
       "       ['北京', '技术类', '2017-12-18', 1, 'MIG16-地图专题数据后台开发工程师-功能方向（北京）'],\n",
       "       ['北京', '技术类', '2017-12-15', 3, 'MIG07-系统安全研究员（北京）'],\n",
       "       ['北京', '技术类', '2017-12-15', 2, 'MIG16-地图数据高级后台工程师（北京）'],\n",
       "       ['北京', '技术类', '2017-12-14', 1, 'TEG05-高级安全数据研究员(北京）'],\n",
       "       ['北京', '技术类', '2017-12-14', 2, 'SA-腾讯社交广告算法工程师（质量研发中心 北京）'],\n",
       "       ['北京', '技术类', '2017-12-13', 2, '22989-腾讯云大客户售后高级顾问（北京）'],\n",
       "       ['北京', '技术类', '2017-12-13', 2, '22989-腾讯云行业架构师（北京）'],\n",
       "       ['北京', '技术类', '2017-12-12', 1, 'WXG02-116 测试开发工程师'],\n",
       "       ['北京', '技术类', '2017-12-11', 1, '15503-系统漏洞研究工程师（北京）'],\n",
       "       ['北京', '产品/项目类', '2017-12-07', 1, '22989-腾讯云AI行业方案专家（北京）'],\n",
       "       ['北京', '技术类', '2017-12-13', 2, '23674-腾讯新闻大数据分析工程师'],\n",
       "       ['北京', '技术类', '2017-12-13', 1, 'MIG16-腾讯地图自然语言处理高级工程师(北京)'],\n",
       "       ['北京', '技术类', '2017-12-12', 1, 'OMG236-腾讯视频搜索数据模型高级工程师(北京)'],\n",
       "       ['北京', '技术类', '2017-12-11', 1, '23671-数据开发工程师（北京）'],\n",
       "       ['北京', '技术类', '2017-12-06', 1, '22989-腾讯云PAAS产品中心高级后端开发（北京）'],\n",
       "       ['北京', '技术类', '2017-12-06', 1, 'WXG08-121 模式识别机器学习（高级）算法工程师（北京）'],\n",
       "       ['北京', '技术类', '2017-12-05', 1, 'MIG07-企业安全运营工程师（北京）'],\n",
       "       ['北京', '技术类', '2017-12-05', 0, 'OMG097-业务运维（北京）'],\n",
       "       ['北京', '技术类', '2017-12-04', 2, 'TEG11-机器翻译语料挖掘工程师（北京）'],\n",
       "       ['北京', '技术类', '2017-12-04', 1, 'TEG13-图像OCR算法工程师(北京)'],\n",
       "       ['北京', '技术类', '2017-12-06', 1, 'WXG08-121 模式识别自然语言处理（高级）算法工程师（北京）'],\n",
       "       ['北京', '技术类', '2017-12-05', 4, 'SNG02-自然语言处理高级研发工程师（北京）'],\n",
       "       ['北京', '技术类', '2017-12-04', 1, 'WXG08-113 微信搜索后台开发高级工程师（北京）'],\n",
       "       ['北京', '技术类', '2017-12-04', 2, '22086-数据挖掘工程师(北京）'],\n",
       "       ['北京', '技术类', '2017-12-02', 1, 'MIG03-腾讯地图高级算法评测工程师（北京）'],\n",
       "       ['北京', '技术类', '2017-12-01', 1, '22989-C++后台开发工程师（北京）'],\n",
       "       ['北京', '技术类', '2017-12-01', 1, '22989-分布式存储高级研发工程师（北京）'],\n",
       "       ['北京', '技术类', '2017-11-27', 1, 'MIG16-地图导航后台开发工程师(北京)'],\n",
       "       ['北京', '技术类', '2017-11-26', 1, '23048-翻译君后台开发高级工程师（北京）'],\n",
       "       ['北京', '技术类', '2017-11-21', 2, 'TEG03-高级算法研发工程师（深圳）'],\n",
       "       ['北京', '技术类', '2017-12-01', 1, '22989-云存储资深研发工程师（北京）'],\n",
       "       ['北京', '技术类', '2017-12-01', 1, 'MIG15-自然语言处理高级算法研究员'],\n",
       "       ['北京', '技术类', '2017-11-26', 1, 'SA-腾讯社交广告定向系统开发工程师（北京）'],\n",
       "       ['北京', '技术类', '2017-11-22', 2, 'OMG236-腾讯视频自然语言处理高级工程师（北京）'],\n",
       "       ['北京', '技术类', '2017-11-21', 1, '17757-高级数据挖掘工程师（北京）'],\n",
       "       ['北京', '技术类', '2017-11-21', 3, 'MIG16-地图导航惯导开发工程师（北京）'],\n",
       "       ['北京', '技术类', '2017-11-13', 1, 'TEG17-AI LAB语音识别研发工程师(深圳）'],\n",
       "       ['北京', '技术类', '2017-11-08', 1, 'MIG16-地图众包业务后台开发高级工程师（北京）'],\n",
       "       ['北京', '技术类', '2017-11-06', 2, 'MIG16-自动驾驶数据平台大数据高级系统架构师(北京)'],\n",
       "       ['北京', '技术类', '2017-11-03', 1, 'MIG16-地图POI数据挖掘高级研发工程师（北京）'],\n",
       "       ['北京', '技术类', '2017-11-16', 1, 'SNG02-腾讯云汽车行业方案架构师（北京/上海/深圳）'],\n",
       "       ['北京', '技术类', '2017-11-08', 1, '23674-腾讯新闻后台测试组长'],\n",
       "       ['北京', '技术类', '2017-11-06', 0, 'MIG16-自动驾驶数据平台高级后台开发工程师(北京)'],\n",
       "       ['北京', '技术类', '2017-11-03', 1, 'MIG16-地图POI数据自然语言处理工程师（北京）'],\n",
       "       ['北京', '技术类', '2017-11-02', 1, 'MIG16-地图后台高级研发工程师-融合方向（北京）'],\n",
       "       ['北京', '技术类', '2017-11-01', 3, 'MIG16-AI算法研究（北京）'],\n",
       "       ['北京', '技术类', '2017-11-01', 1, 'MIG16-基础架构工程师（北京）'],\n",
       "       ['北京', '技术类', '2017-10-30', 2, 'MIG16-腾讯地图导航/步行骑行/公交后台开发工程师(北京)'],\n",
       "       ['北京', '技术类', '2017-10-26', 1, 'MIG16-自动驾驶融合感知(北京)'],\n",
       "       ['北京', '技术类', '2017-10-26', 1, 'MIG16-自动驾驶融合定位(北京)'],\n",
       "       ['北京', '技术类', '2017-11-01', 2, 'MIG16-运营后台开发工程师（北京）'],\n",
       "       ['北京', '技术类', '2017-11-01', 1, 'MIG16-地图大数据挖掘工程师（北京）'],\n",
       "       ['北京', '技术类', '2017-10-30', 1, '22090-天天快报-图像算法工程师（北京）'],\n",
       "       ['北京', '技术类', '2017-10-26', 1, 'MIG16-自动驾驶深度学习(北京)'],\n",
       "       ['北京', '技术类', '2017-10-25', 1, 'MIG16-计算机视觉高级算法工程师（北京）'],\n",
       "       ['北京', '技术类', '2017-09-27', 1, '23048-翻译君语料数据工程师（北京）'],\n",
       "       ['北京', '技术类', '2017-09-27', 2, 'SA-腾讯社交广告测试开发工程师（北京）']], dtype=object)"
      ]
     },
     "execution_count": 10,
     "metadata": {},
     "output_type": "execute_result"
    }
   ],
   "source": [
    "df.values"
   ]
  },
  {
   "cell_type": "code",
   "execution_count": 15,
   "metadata": {},
   "outputs": [
    {
     "data": {
      "text/plain": [
       "0       MIG16-位置大数据机器学习/深度学习算法研究员（北京）\n",
       "1         WXG08-122 微信数据挖掘算法高级工程师（北京）\n",
       "2                  OMG097-测试开发工程师（北京）\n",
       "3            OMG236-腾讯视频推荐算法高级工程师（北京）\n",
       "4               23671-高级数据分析开发工程师(北京）\n",
       "5         22090-天天快报-文本分析与挖掘高级工程师（北京）\n",
       "6           WXG08-121 微信机器学习算法工程师（北京）\n",
       "7                 23674-腾讯新闻高级系统测试工程师\n",
       "8              SA-腾讯社交广告高级系统测试工程师（北京）\n",
       "9              22989-腾讯云高级后台开发工程师（北京）\n",
       "10                 22989-云计算研发工程师（北京）\n",
       "11         22989-腾讯云高级后台开发(互联网业务)（北京）\n",
       "12                 OMG097-数据挖掘工程师(北京）\n",
       "13                    23674-搜索架构高级工程师\n",
       "14             22090-天天快报-数据产品组组长（北京）\n",
       "15                 TEG02-控制器研发工程师（北京）\n",
       "16              22989-高级图像处理算法工程师（北京）\n",
       "17    WXG08-121 微信模式识别自然语言处理算法工程师（北京）\n",
       "18                  23674-新闻搜索算法高级工程师\n",
       "19               OMG097-后台开发高级工程师(北京）\n",
       "20                  MIG03-数据评测工程师（北京）\n",
       "21                 OMG097-数据挖掘工程师(北京）\n",
       "22                  MIG07-系统安全研究员（北京）\n",
       "23             SA-腾讯社交广告联盟策略开发工程师（北京）\n",
       "24              23048-内容推荐算法高级工程师（北京）\n",
       "25       MIG16-地图专题数据后台开发工程师-功能方向（北京）\n",
       "26                  MIG07-系统安全研究员（北京）\n",
       "27              MIG16-地图数据高级后台工程师（北京）\n",
       "28                TEG05-高级安全数据研究员(北京）\n",
       "29          SA-腾讯社交广告算法工程师（质量研发中心 北京）\n",
       "                   ...               \n",
       "52              MIG16-地图导航后台开发工程师(北京)\n",
       "53             23048-翻译君后台开发高级工程师（北京）\n",
       "54                TEG03-高级算法研发工程师（深圳）\n",
       "55               22989-云存储资深研发工程师（北京）\n",
       "56                MIG15-自然语言处理高级算法研究员\n",
       "57             SA-腾讯社交广告定向系统开发工程师（北京）\n",
       "58         OMG236-腾讯视频自然语言处理高级工程师（北京）\n",
       "59                17757-高级数据挖掘工程师（北京）\n",
       "60              MIG16-地图导航惯导开发工程师（北京）\n",
       "61          TEG17-AI LAB语音识别研发工程师(深圳）\n",
       "62          MIG16-地图众包业务后台开发高级工程师（北京）\n",
       "63       MIG16-自动驾驶数据平台大数据高级系统架构师(北京)\n",
       "64         MIG16-地图POI数据挖掘高级研发工程师（北京）\n",
       "65       SNG02-腾讯云汽车行业方案架构师（北京/上海/深圳）\n",
       "66                   23674-腾讯新闻后台测试组长\n",
       "67        MIG16-自动驾驶数据平台高级后台开发工程师(北京)\n",
       "68         MIG16-地图POI数据自然语言处理工程师（北京）\n",
       "69         MIG16-地图后台高级研发工程师-融合方向（北京）\n",
       "70                   MIG16-AI算法研究（北京）\n",
       "71                  MIG16-基础架构工程师（北京）\n",
       "72    MIG16-腾讯地图导航/步行骑行/公交后台开发工程师(北京)\n",
       "73                 MIG16-自动驾驶融合感知(北京)\n",
       "74                 MIG16-自动驾驶融合定位(北京)\n",
       "75                MIG16-运营后台开发工程师（北京）\n",
       "76               MIG16-地图大数据挖掘工程师（北京）\n",
       "77             22090-天天快报-图像算法工程师（北京）\n",
       "78                 MIG16-自动驾驶深度学习(北京)\n",
       "79             MIG16-计算机视觉高级算法工程师（北京）\n",
       "80               23048-翻译君语料数据工程师（北京）\n",
       "81               SA-腾讯社交广告测试开发工程师（北京）\n",
       "Name: work_name, Length: 82, dtype: object"
      ]
     },
     "execution_count": 15,
     "metadata": {},
     "output_type": "execute_result"
    }
   ],
   "source": [
    "col = df[df.columns[4]]  #选中DataFrame一列，则为Series型数据\n",
    "col"
   ]
  },
  {
   "cell_type": "code",
   "execution_count": 16,
   "metadata": {},
   "outputs": [
    {
     "data": {
      "text/plain": [
       "(82,)"
      ]
     },
     "execution_count": 16,
     "metadata": {},
     "output_type": "execute_result"
    }
   ],
   "source": [
    "col.shape  #输出每维的长度，numpy的函数同样适用于pandas"
   ]
  },
  {
   "cell_type": "code",
   "execution_count": 17,
   "metadata": {},
   "outputs": [
    {
     "data": {
      "text/plain": [
       "RangeIndex(start=0, stop=82, step=1)"
      ]
     },
     "execution_count": 17,
     "metadata": {},
     "output_type": "execute_result"
    }
   ],
   "source": [
    "col.index"
   ]
  },
  {
   "cell_type": "code",
   "execution_count": 18,
   "metadata": {},
   "outputs": [
    {
     "data": {
      "text/plain": [
       "array(['MIG16-位置大数据机器学习/深度学习算法研究员（北京）', 'WXG08-122 微信数据挖掘算法高级工程师（北京）',\n",
       "       'OMG097-测试开发工程师（北京）', 'OMG236-腾讯视频推荐算法高级工程师（北京）',\n",
       "       '23671-高级数据分析开发工程师(北京）', '22090-天天快报-文本分析与挖掘高级工程师（北京）',\n",
       "       'WXG08-121 微信机器学习算法工程师（北京）', '23674-腾讯新闻高级系统测试工程师',\n",
       "       'SA-腾讯社交广告高级系统测试工程师（北京）', '22989-腾讯云高级后台开发工程师（北京）',\n",
       "       '22989-云计算研发工程师（北京）', '22989-腾讯云高级后台开发(互联网业务)（北京）',\n",
       "       'OMG097-数据挖掘工程师(北京）', '23674-搜索架构高级工程师', '22090-天天快报-数据产品组组长（北京）',\n",
       "       'TEG02-控制器研发工程师（北京）', '22989-高级图像处理算法工程师（北京）',\n",
       "       'WXG08-121 微信模式识别自然语言处理算法工程师（北京）', '23674-新闻搜索算法高级工程师',\n",
       "       'OMG097-后台开发高级工程师(北京）', 'MIG03-数据评测工程师（北京）', 'OMG097-数据挖掘工程师(北京）',\n",
       "       'MIG07-系统安全研究员（北京）', 'SA-腾讯社交广告联盟策略开发工程师（北京）',\n",
       "       '23048-内容推荐算法高级工程师（北京）', 'MIG16-地图专题数据后台开发工程师-功能方向（北京）',\n",
       "       'MIG07-系统安全研究员（北京）', 'MIG16-地图数据高级后台工程师（北京）', 'TEG05-高级安全数据研究员(北京）',\n",
       "       'SA-腾讯社交广告算法工程师（质量研发中心 北京）', '22989-腾讯云大客户售后高级顾问（北京）',\n",
       "       '22989-腾讯云行业架构师（北京）', 'WXG02-116 测试开发工程师', '15503-系统漏洞研究工程师（北京）',\n",
       "       '22989-腾讯云AI行业方案专家（北京）', '23674-腾讯新闻大数据分析工程师',\n",
       "       'MIG16-腾讯地图自然语言处理高级工程师(北京)', 'OMG236-腾讯视频搜索数据模型高级工程师(北京)',\n",
       "       '23671-数据开发工程师（北京）', '22989-腾讯云PAAS产品中心高级后端开发（北京）',\n",
       "       'WXG08-121 模式识别机器学习（高级）算法工程师（北京）', 'MIG07-企业安全运营工程师（北京）',\n",
       "       'OMG097-业务运维（北京）', 'TEG11-机器翻译语料挖掘工程师（北京）', 'TEG13-图像OCR算法工程师(北京)',\n",
       "       'WXG08-121 模式识别自然语言处理（高级）算法工程师（北京）', 'SNG02-自然语言处理高级研发工程师（北京）',\n",
       "       'WXG08-113 微信搜索后台开发高级工程师（北京）', '22086-数据挖掘工程师(北京）',\n",
       "       'MIG03-腾讯地图高级算法评测工程师（北京）', '22989-C++后台开发工程师（北京）',\n",
       "       '22989-分布式存储高级研发工程师（北京）', 'MIG16-地图导航后台开发工程师(北京)',\n",
       "       '23048-翻译君后台开发高级工程师（北京）', 'TEG03-高级算法研发工程师（深圳）',\n",
       "       '22989-云存储资深研发工程师（北京）', 'MIG15-自然语言处理高级算法研究员',\n",
       "       'SA-腾讯社交广告定向系统开发工程师（北京）', 'OMG236-腾讯视频自然语言处理高级工程师（北京）',\n",
       "       '17757-高级数据挖掘工程师（北京）', 'MIG16-地图导航惯导开发工程师（北京）',\n",
       "       'TEG17-AI LAB语音识别研发工程师(深圳）', 'MIG16-地图众包业务后台开发高级工程师（北京）',\n",
       "       'MIG16-自动驾驶数据平台大数据高级系统架构师(北京)', 'MIG16-地图POI数据挖掘高级研发工程师（北京）',\n",
       "       'SNG02-腾讯云汽车行业方案架构师（北京/上海/深圳）', '23674-腾讯新闻后台测试组长',\n",
       "       'MIG16-自动驾驶数据平台高级后台开发工程师(北京)', 'MIG16-地图POI数据自然语言处理工程师（北京）',\n",
       "       'MIG16-地图后台高级研发工程师-融合方向（北京）', 'MIG16-AI算法研究（北京）',\n",
       "       'MIG16-基础架构工程师（北京）', 'MIG16-腾讯地图导航/步行骑行/公交后台开发工程师(北京)',\n",
       "       'MIG16-自动驾驶融合感知(北京)', 'MIG16-自动驾驶融合定位(北京)', 'MIG16-运营后台开发工程师（北京）',\n",
       "       'MIG16-地图大数据挖掘工程师（北京）', '22090-天天快报-图像算法工程师（北京）',\n",
       "       'MIG16-自动驾驶深度学习(北京)', 'MIG16-计算机视觉高级算法工程师（北京）',\n",
       "       '23048-翻译君语料数据工程师（北京）', 'SA-腾讯社交广告测试开发工程师（北京）'], dtype=object)"
      ]
     },
     "execution_count": 18,
     "metadata": {},
     "output_type": "execute_result"
    }
   ],
   "source": [
    "col.values"
   ]
  },
  {
   "cell_type": "code",
   "execution_count": 19,
   "metadata": {},
   "outputs": [
    {
     "data": {
      "text/plain": [
       "'work_name'"
      ]
     },
     "execution_count": 19,
     "metadata": {},
     "output_type": "execute_result"
    }
   ],
   "source": [
    "col.name"
   ]
  },
  {
   "cell_type": "code",
   "execution_count": 20,
   "metadata": {},
   "outputs": [
    {
     "data": {
      "text/plain": [
       "1    WXG08-122 微信数据挖掘算法高级工程师（北京）\n",
       "2             OMG097-测试开发工程师（北京）\n",
       "3       OMG236-腾讯视频推荐算法高级工程师（北京）\n",
       "4          23671-高级数据分析开发工程师(北京）\n",
       "5    22090-天天快报-文本分析与挖掘高级工程师（北京）\n",
       "Name: work_name, dtype: object"
      ]
     },
     "execution_count": 20,
     "metadata": {},
     "output_type": "execute_result"
    }
   ],
   "source": [
    "col[1:6]"
   ]
  },
  {
   "cell_type": "code",
   "execution_count": 5,
   "metadata": {},
   "outputs": [],
   "source": [
    "import numpy as np\n",
    "import pandas as pd\n",
    "\n",
    "\n",
    "data = {'Weather': ['cold', 'hot', 'cold', 'hot',\n",
    "   'cold', 'hot', 'cold'],\n",
    "   'Food' : ['soup', 'soup', 'icecream', 'chocolate',\n",
    "   'icecream', 'icecream', 'soup'],\n",
    "   'Price' : 10 * np.random.rand(7), 'Number' : np.random.randint(1, 9 + 1, size=(7,))}\n",
    "df = pd.DataFrame(data)"
   ]
  },
  {
   "cell_type": "code",
   "execution_count": 11,
   "metadata": {},
   "outputs": [
    {
     "name": "stdout",
     "output_type": "stream",
     "text": [
      "1 cold\n",
      "       Food  Number     Price Weather\n",
      "0      soup       7  7.376013    cold\n",
      "2  icecream       2  0.828093    cold\n",
      "4  icecream       3  6.852144    cold\n",
      "6      soup       8  5.903245    cold\n",
      "2 hot\n",
      "        Food  Number     Price Weather\n",
      "1       soup       2  7.222520     hot\n",
      "3  chocolate       5  8.471257     hot\n",
      "5   icecream       5  9.211986     hot\n"
     ]
    }
   ],
   "source": [
    "weather_group = df.groupby('Weather')  #数据聚合，按weather分组\n",
    "i = 0\n",
    "for name, group in weather_group:  #name为weather的名字，group为该类中的项\n",
    "    i += 1\n",
    "    print(i, name)\n",
    "    print(group)"
   ]
  },
  {
   "cell_type": "code",
   "execution_count": 12,
   "metadata": {},
   "outputs": [
    {
     "data": {
      "text/html": [
       "<div>\n",
       "<style scoped>\n",
       "    .dataframe tbody tr th:only-of-type {\n",
       "        vertical-align: middle;\n",
       "    }\n",
       "\n",
       "    .dataframe tbody tr th {\n",
       "        vertical-align: top;\n",
       "    }\n",
       "\n",
       "    .dataframe thead th {\n",
       "        text-align: right;\n",
       "    }\n",
       "</style>\n",
       "<table border=\"1\" class=\"dataframe\">\n",
       "  <thead>\n",
       "    <tr style=\"text-align: right;\">\n",
       "      <th></th>\n",
       "      <th>Food</th>\n",
       "      <th>Number</th>\n",
       "      <th>Price</th>\n",
       "    </tr>\n",
       "    <tr>\n",
       "      <th>Weather</th>\n",
       "      <th></th>\n",
       "      <th></th>\n",
       "      <th></th>\n",
       "    </tr>\n",
       "  </thead>\n",
       "  <tbody>\n",
       "    <tr>\n",
       "      <th>cold</th>\n",
       "      <td>soup</td>\n",
       "      <td>7</td>\n",
       "      <td>7.376013</td>\n",
       "    </tr>\n",
       "    <tr>\n",
       "      <th>hot</th>\n",
       "      <td>soup</td>\n",
       "      <td>2</td>\n",
       "      <td>7.222520</td>\n",
       "    </tr>\n",
       "  </tbody>\n",
       "</table>\n",
       "</div>"
      ],
      "text/plain": [
       "         Food  Number     Price\n",
       "Weather                        \n",
       "cold     soup       7  7.376013\n",
       "hot      soup       2  7.222520"
      ]
     },
     "execution_count": 12,
     "metadata": {},
     "output_type": "execute_result"
    }
   ],
   "source": [
    "weather_group.first()"
   ]
  },
  {
   "cell_type": "code",
   "execution_count": 13,
   "metadata": {},
   "outputs": [
    {
     "data": {
      "text/html": [
       "<div>\n",
       "<style scoped>\n",
       "    .dataframe tbody tr th:only-of-type {\n",
       "        vertical-align: middle;\n",
       "    }\n",
       "\n",
       "    .dataframe tbody tr th {\n",
       "        vertical-align: top;\n",
       "    }\n",
       "\n",
       "    .dataframe thead th {\n",
       "        text-align: right;\n",
       "    }\n",
       "</style>\n",
       "<table border=\"1\" class=\"dataframe\">\n",
       "  <thead>\n",
       "    <tr style=\"text-align: right;\">\n",
       "      <th></th>\n",
       "      <th>Food</th>\n",
       "      <th>Number</th>\n",
       "      <th>Price</th>\n",
       "    </tr>\n",
       "    <tr>\n",
       "      <th>Weather</th>\n",
       "      <th></th>\n",
       "      <th></th>\n",
       "      <th></th>\n",
       "    </tr>\n",
       "  </thead>\n",
       "  <tbody>\n",
       "    <tr>\n",
       "      <th>cold</th>\n",
       "      <td>soup</td>\n",
       "      <td>8</td>\n",
       "      <td>5.903245</td>\n",
       "    </tr>\n",
       "    <tr>\n",
       "      <th>hot</th>\n",
       "      <td>icecream</td>\n",
       "      <td>5</td>\n",
       "      <td>9.211986</td>\n",
       "    </tr>\n",
       "  </tbody>\n",
       "</table>\n",
       "</div>"
      ],
      "text/plain": [
       "             Food  Number     Price\n",
       "Weather                            \n",
       "cold         soup       8  5.903245\n",
       "hot      icecream       5  9.211986"
      ]
     },
     "execution_count": 13,
     "metadata": {},
     "output_type": "execute_result"
    }
   ],
   "source": [
    "weather_group.last()"
   ]
  },
  {
   "cell_type": "code",
   "execution_count": 14,
   "metadata": {},
   "outputs": [
    {
     "data": {
      "text/html": [
       "<div>\n",
       "<style scoped>\n",
       "    .dataframe tbody tr th:only-of-type {\n",
       "        vertical-align: middle;\n",
       "    }\n",
       "\n",
       "    .dataframe tbody tr th {\n",
       "        vertical-align: top;\n",
       "    }\n",
       "\n",
       "    .dataframe thead th {\n",
       "        text-align: right;\n",
       "    }\n",
       "</style>\n",
       "<table border=\"1\" class=\"dataframe\">\n",
       "  <thead>\n",
       "    <tr style=\"text-align: right;\">\n",
       "      <th></th>\n",
       "      <th>Number</th>\n",
       "      <th>Price</th>\n",
       "    </tr>\n",
       "    <tr>\n",
       "      <th>Weather</th>\n",
       "      <th></th>\n",
       "      <th></th>\n",
       "    </tr>\n",
       "  </thead>\n",
       "  <tbody>\n",
       "    <tr>\n",
       "      <th>cold</th>\n",
       "      <td>5</td>\n",
       "      <td>5.239874</td>\n",
       "    </tr>\n",
       "    <tr>\n",
       "      <th>hot</th>\n",
       "      <td>4</td>\n",
       "      <td>8.301921</td>\n",
       "    </tr>\n",
       "  </tbody>\n",
       "</table>\n",
       "</div>"
      ],
      "text/plain": [
       "         Number     Price\n",
       "Weather                  \n",
       "cold          5  5.239874\n",
       "hot           4  8.301921"
      ]
     },
     "execution_count": 14,
     "metadata": {},
     "output_type": "execute_result"
    }
   ],
   "source": [
    "weather_group.mean()"
   ]
  },
  {
   "cell_type": "code",
   "execution_count": 15,
   "metadata": {},
   "outputs": [
    {
     "name": "stdout",
     "output_type": "stream",
     "text": [
      "('cold', 'icecream')\n",
      "       Food  Number     Price Weather\n",
      "2  icecream       2  0.828093    cold\n",
      "4  icecream       3  6.852144    cold\n",
      "('cold', 'soup')\n",
      "   Food  Number     Price Weather\n",
      "0  soup       7  7.376013    cold\n",
      "6  soup       8  5.903245    cold\n",
      "('hot', 'chocolate')\n",
      "        Food  Number     Price Weather\n",
      "3  chocolate       5  8.471257     hot\n",
      "('hot', 'icecream')\n",
      "       Food  Number     Price Weather\n",
      "5  icecream       5  9.211986     hot\n",
      "('hot', 'soup')\n",
      "   Food  Number    Price Weather\n",
      "1  soup       2  7.22252     hot\n"
     ]
    }
   ],
   "source": [
    "wf_group = df.groupby(['Weather', 'Food'])\n",
    "for name, group in wf_group:\n",
    "    print(name)\n",
    "    print(group)"
   ]
  },
  {
   "cell_type": "code",
   "execution_count": 16,
   "metadata": {},
   "outputs": [
    {
     "name": "stdout",
     "output_type": "stream",
     "text": [
      "                  Number            Price          \n",
      "                    mean median      mean    median\n",
      "Weather Food                                       \n",
      "cold    icecream     2.5    2.5  3.840119  3.840119\n",
      "        soup         7.5    7.5  6.639629  6.639629\n",
      "hot     chocolate    5.0    5.0  8.471257  8.471257\n",
      "        icecream     5.0    5.0  9.211986  9.211986\n",
      "        soup         2.0    2.0  7.222520  7.222520\n"
     ]
    }
   ],
   "source": [
    "print(wf_group.agg([np.mean, np.median]))  # 通过agg()可以对数据组施加一系列的NumPy函数"
   ]
  },
  {
   "cell_type": "code",
   "execution_count": 17,
   "metadata": {},
   "outputs": [
    {
     "name": "stdout",
     "output_type": "stream",
     "text": [
      "        Food  Number     Price Weather\n",
      "0       soup       7  7.376013    cold\n",
      "1       soup       2  7.222520     hot\n",
      "2   icecream       2  0.828093    cold\n",
      "3  chocolate       5  8.471257     hot\n",
      "4   icecream       3  6.852144    cold\n",
      "5   icecream       5  9.211986     hot\n",
      "6       soup       8  5.903245    cold\n",
      "       Food  Number     Price Weather\n",
      "0      soup       7  7.376013    cold\n",
      "1      soup       2  7.222520     hot\n",
      "2  icecream       2  0.828093    cold\n",
      "5  icecream       5  9.211986     hot\n",
      "6      soup       8  5.903245    cold\n"
     ]
    }
   ],
   "source": [
    "print(pd.concat([df[:3],df[3:]]))  #串联\n",
    "print(df[:3].append(df[5:]))  #串联"
   ]
  },
  {
   "cell_type": "code",
   "execution_count": 21,
   "metadata": {},
   "outputs": [
    {
     "name": "stdout",
     "output_type": "stream",
     "text": [
      "DatetimeIndex(['2018-01-01', '2018-01-02', '2018-01-03', '2018-01-04',\n",
      "               '2018-01-05', '2018-01-06', '2018-01-07', '2018-01-08',\n",
      "               '2018-01-09', '2018-01-10', '2018-01-11', '2018-01-12',\n",
      "               '2018-01-13', '2018-01-14', '2018-01-15', '2018-01-16',\n",
      "               '2018-01-17', '2018-01-18', '2018-01-19', '2018-01-20',\n",
      "               '2018-01-21', '2018-01-22', '2018-01-23', '2018-01-24',\n",
      "               '2018-01-25', '2018-01-26', '2018-01-27', '2018-01-28',\n",
      "               '2018-01-29', '2018-01-30'],\n",
      "              dtype='datetime64[ns]', freq='D')\n",
      "DatetimeIndex(['2018-12-31', '2017-01-01'], dtype='datetime64[ns]', freq=None)\n"
     ]
    }
   ],
   "source": [
    "import numpy as np\n",
    "import pandas as pd\n",
    "\n",
    "\n",
    "print(pd.date_range('1/1/2018',periods=30,freq='D'))  #生成时间列表，周期为42天，D\n",
    "print(pd.to_datetime(['20181231','1/1/2017']))  #将字符串转化为日期数据"
   ]
  },
  {
   "cell_type": "code",
   "execution_count": 23,
   "metadata": {},
   "outputs": [
    {
     "name": "stdout",
     "output_type": "stream",
     "text": [
      "Food    chocolate icecream     soup\n",
      "Number          8        9        7\n",
      "Price     5.66488  9.17682  7.81108\n",
      "Weather       hot      hot      hot\n",
      "Food    chocolate  icecream       soup\n",
      "Number   8.000000  13.00000  15.000000\n",
      "Price    5.664883  18.68247  13.291698\n"
     ]
    }
   ],
   "source": [
    "import numpy as np\n",
    "import pandas as pd\n",
    "\n",
    "\n",
    "data = {'Weather' : ['cold', 'hot', 'cold', 'hot',\n",
    "   'cold', 'hot', 'cold'],\n",
    "   'Food' : ['soup', 'soup', 'icecream', 'chocolate',\n",
    "   'icecream', 'icecream', 'soup'],\n",
    "   'Price' : 10 * np.random.rand(7), 'Number' : np.random.randint(1, 9 + 1, size=(7,))}\n",
    "df = pd.DataFrame(data)   #根据字典创建DataFrame\n",
    "print(pd.pivot_table(df,columns=['Food'],aggfunc=np.max))   #np.max不能加括号\n",
    "print(pd.pivot_table(df,columns=['Food'],aggfunc=np.sum))   #np.sum不能加括号"
   ]
  },
  {
   "cell_type": "code",
   "execution_count": null,
   "metadata": {},
   "outputs": [],
   "source": []
  }
 ],
 "metadata": {
  "kernelspec": {
   "display_name": "Python 3",
   "language": "python",
   "name": "python3"
  },
  "language_info": {
   "codemirror_mode": {
    "name": "ipython",
    "version": 3
   },
   "file_extension": ".py",
   "mimetype": "text/x-python",
   "name": "python",
   "nbconvert_exporter": "python",
   "pygments_lexer": "ipython3",
   "version": "3.6.3"
  }
 },
 "nbformat": 4,
 "nbformat_minor": 2
}
