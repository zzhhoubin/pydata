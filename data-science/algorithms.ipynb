{
 "cells": [
  {
   "cell_type": "markdown",
   "metadata": {},
   "source": [
    "# python排序算法"
   ]
  },
  {
   "cell_type": "markdown",
   "metadata": {},
   "source": [
    "## 冒泡排序\n",
    "冒泡排序（英语：Bubble Sort）是一种简单的排序算法。它重复地遍历要排序的数列，一次比较两个元素，如果他们的顺序错误就把他们交换过来。遍历数列的工作是重复地进行直到没有再需要交换，也就是说该数列已经排序完成。这个算法的名字由来是因为越小的元素会经由交换慢慢“浮”到数列的顶端。\n",
    "\n",
    "冒泡排序算法的运作如下：\n",
    "\n",
    "比较相邻的元素。如果第一个比第二个大（升序），就交换他们两个。\n",
    "对每一对相邻元素作同样的工作，从开始第一对到结尾的最后一对。这步做完后，最后的元素会是最大的数。\n",
    "针对所有的元素重复以上的步骤，除了最后一个。\n",
    "持续每次对越来越少的元素重复上面的步骤，直到没有任何一对数字需要比较。"
   ]
  },
  {
   "cell_type": "code",
   "execution_count": 1,
   "metadata": {
    "scrolled": true
   },
   "outputs": [
    {
     "name": "stdout",
     "output_type": "stream",
     "text": [
      "[21, 21, 83, 71, 30, 18, 68, 44, 87, 77]\n",
      "[18, 21, 21, 30, 44, 68, 71, 77, 83, 87]\n"
     ]
    }
   ],
   "source": [
    "import random, time\n",
    "\n",
    "def bubble_sort(list):\n",
    "    \"\"\"冒泡排序\"\"\"\n",
    "    n = len(list)\n",
    "    # 设置原有数据是否有序的标志\n",
    "    flag = 0\n",
    "    for j in range(n - 1):\n",
    "        for i in range(n - 1 - j):\n",
    "            if list[i] > list[i+1]:\n",
    "                list[i], list[i+1] = list[i+1], list[i]\n",
    "                flag += 1\n",
    "        # 内层循环遍历一次后，如果从来没有交换过数据，证明列表已经有序\n",
    "        if not flag:\n",
    "            break\n",
    "\n",
    "\n",
    "if __name__ == \"__main__\":\n",
    "    li = []\n",
    "    for i in range(10):\n",
    "        li.append(random.randint(0, 100))\n",
    "    print(li)\n",
    "    bubble_sort(li)\n",
    "    time.sleep(0.5)\n",
    "    print(li)\n"
   ]
  },
  {
   "cell_type": "markdown",
   "metadata": {},
   "source": [
    "## 选择排序\n",
    "选择排序（Selection sort）是一种简单直观的排序算法。它的工作原理如下。首先在未排序序列中找到最小（大）元素，存放到排序序列的起始位置，然后，再从剩余未排序元素中继续寻找最小（大）元素，然后放到已排序序列的末尾。以此类推，直到所有元素均排序完毕。\n",
    "\n",
    "选择排序的主要优点与数据移动有关。如果某个元素位于正确的最终位置上，则它不会被移动。选择排序每次交换一对元素，它们当中至少有一个将被移到其最终位置上，因此对n个元素的表进行排序总共进行至多n-1次交换。在所有的完全依靠交换去移动元素的排序方法中，选择排序属于非常好的一种。"
   ]
  },
  {
   "cell_type": "code",
   "execution_count": 2,
   "metadata": {},
   "outputs": [
    {
     "name": "stdout",
     "output_type": "stream",
     "text": [
      "[1, 60, 76, 95, 46, 97, 65, 64, 34, 54]\n",
      "[1, 34, 46, 54, 60, 64, 65, 76, 95, 97]\n"
     ]
    }
   ],
   "source": [
    "import random, time\n",
    "\n",
    "def select_sort(list):\n",
    "    \"\"\"选择排序\"\"\"\n",
    "    n = len(list)\n",
    "    for j in range(n - 1):\n",
    "        # 记录0位置的数据，认为0位置的数据最小\n",
    "        min_index = j\n",
    "        for i in range(j + 1, n):\n",
    "            if list[i] < list[min_index]:\n",
    "                # 把更小的数的位置记录起来\n",
    "                min_index = i\n",
    "        # 循环结束时，min_index指向的是最小的数的位置\n",
    "        list[min_index], li[j] = list[j], list[min_index]\n",
    "\n",
    "\n",
    "if __name__ == \"__main__\":\n",
    "    li = []\n",
    "    for i in range(10):\n",
    "        li.append(random.randint(0, 100))\n",
    "    print(li)\n",
    "    select_sort(li)\n",
    "    time.sleep(0.5)\n",
    "    print(li)\n"
   ]
  },
  {
   "cell_type": "markdown",
   "metadata": {},
   "source": [
    "## 插入排序\n",
    "插入排序（英语：Insertion Sort）是一种简单直观的排序算法。它的工作原理是通过构建有序序列，对于未排序数据，在已排序序列中从后向前扫描，找到相应位置并插入。插入排序在实现上，在从后向前扫描过程中，需要反复把已排序元素逐步向后挪位，为最新元素提供插入空间。"
   ]
  },
  {
   "cell_type": "code",
   "execution_count": 3,
   "metadata": {},
   "outputs": [
    {
     "name": "stdout",
     "output_type": "stream",
     "text": [
      "[53, 98, 15, 57, 80, 29, 68, 32, 4, 97]\n",
      "[4, 15, 29, 32, 53, 57, 68, 80, 97, 98]\n"
     ]
    }
   ],
   "source": [
    "import random, time\n",
    "\n",
    "def insert_sort(list):\n",
    "    \"\"\"插入排序\"\"\"\n",
    "    n = len(list)\n",
    "    # 从第2个位置，即下标为1的元素开始向前插入\n",
    "    for j in range(1, n):\n",
    "        # 从第j个元素开始向前比较，如果小于前一个元素，交换位置\n",
    "        for i in range(j, 0, -1):\n",
    "            if list[i] < list[i-1]:\n",
    "                list[i], list[i-1] = list[i-1], list[i]\n",
    "            else:\n",
    "                break\n",
    "\n",
    "\n",
    "if __name__ == \"__main__\":\n",
    "    li = []\n",
    "    for i in range(10):\n",
    "        li.append(random.randint(0, 100))\n",
    "    print(li)\n",
    "    insert_sort(li)\n",
    "    time.sleep(0.5)\n",
    "    print(li)\n"
   ]
  },
  {
   "cell_type": "code",
   "execution_count": null,
   "metadata": {},
   "outputs": [],
   "source": []
  }
 ],
 "metadata": {
  "kernelspec": {
   "display_name": "Python 3",
   "language": "python",
   "name": "python3"
  },
  "language_info": {
   "codemirror_mode": {
    "name": "ipython",
    "version": 3
   },
   "file_extension": ".py",
   "mimetype": "text/x-python",
   "name": "python",
   "nbconvert_exporter": "python",
   "pygments_lexer": "ipython3",
   "version": "3.6.3"
  }
 },
 "nbformat": 4,
 "nbformat_minor": 2
}
