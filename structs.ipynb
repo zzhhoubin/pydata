{
 "cells": [
  {
   "cell_type": "code",
   "execution_count": 1,
   "metadata": {},
   "outputs": [
    {
     "name": "stdout",
     "output_type": "stream",
     "text": [
      "2\n",
      "world\n",
      "world\n",
      "hello\n"
     ]
    }
   ],
   "source": [
    "class Stack(object):\n",
    "    \"\"\"栈\"\"\"\n",
    "    def __init__(self):\n",
    "        \"\"\"创建一个新的空栈\"\"\"\n",
    "        self.items = []\n",
    "\n",
    "    def push(self, item):\n",
    "        \"\"\"加入数据\"\"\"\n",
    "        self.items.append(item)\n",
    "\n",
    "    def pop(self):\n",
    "        \"\"\"弹出数据\"\"\"\n",
    "        return self.items.pop()\n",
    "\n",
    "    def peek(self):\n",
    "        \"\"\"返回栈顶元素\"\"\"\n",
    "        return self.items[len(self.items) - 1]\n",
    "\n",
    "    def size(self):\n",
    "        \"\"\"返回栈的大小\"\"\"\n",
    "        return len(self.items)\n",
    "\n",
    "    def is_empty(self):\n",
    "        \"\"\"判断是否为空\"\"\"\n",
    "        return self.items == []\n",
    "\n",
    "\n",
    "if __name__ == \"__main__\":\n",
    "    stack = Stack()\n",
    "    stack.push('hello')\n",
    "    stack.push('world')\n",
    "    print(stack.size())\n",
    "    print(stack.peek())\n",
    "    print(stack.pop())\n",
    "    print(stack.pop())\n"
   ]
  },
  {
   "cell_type": "code",
   "execution_count": 2,
   "metadata": {},
   "outputs": [
    {
     "name": "stdout",
     "output_type": "stream",
     "text": [
      "2\n",
      "hello\n",
      "world\n"
     ]
    }
   ],
   "source": [
    "class Queue(object):\n",
    "    \"\"\"队列\"\"\"\n",
    "    def __init__(self):\n",
    "        self.items = []\n",
    "\n",
    "    def enqueue(self, item):\n",
    "        \"\"\"进队列\"\"\"\n",
    "        self.items.insert(0, item)\n",
    "\n",
    "    def dequeue(self):\n",
    "        \"\"\"出队列\"\"\"\n",
    "        return self.items.pop()\n",
    "\n",
    "    def size(self):\n",
    "        \"\"\"返回大小\"\"\"\n",
    "        return len(self.items)\n",
    "\n",
    "    def is_empty(self):\n",
    "        return self.items == []\n",
    "\n",
    "\n",
    "if __name__ == \"__main__\":\n",
    "    q = Queue()\n",
    "    q.enqueue('hello')\n",
    "    q.enqueue('world')\n",
    "    print(q.size())\n",
    "    print(q.dequeue())\n",
    "    print(q.dequeue())\n"
   ]
  },
  {
   "cell_type": "code",
   "execution_count": 3,
   "metadata": {},
   "outputs": [
    {
     "name": "stdout",
     "output_type": "stream",
     "text": [
      "4\n",
      "4\n",
      "3\n",
      "1\n",
      "2\n"
     ]
    }
   ],
   "source": [
    "class Deque(object):\n",
    "    \"\"\"双端队列\"\"\"\n",
    "    def __init__(self):\n",
    "        self.items = []\n",
    "\n",
    "    def add_front(self, item):\n",
    "        \"\"\"在队首添加元素\"\"\"\n",
    "        self.items.insert(0, item)\n",
    "\n",
    "    def add_rear(self, item):\n",
    "        \"\"\"在队尾添加元素\"\"\"\n",
    "        self.items.append(item)\n",
    "\n",
    "    def remove_front(self):\n",
    "        \"\"\"从队首删除元素\"\"\"\n",
    "        return self.items.pop(0)\n",
    "\n",
    "    def remove_rear(self):\n",
    "        \"\"\"从队尾删除元素\"\"\"\n",
    "        return self.items.pop()\n",
    "\n",
    "    def size(self):\n",
    "        \"\"\"返回大小\"\"\"\n",
    "        return len(self.items)\n",
    "\n",
    "    def is_empty(self):\n",
    "        \"\"\"判断队列是否为空\"\"\"\n",
    "        return self.items == []\n",
    "\n",
    "\n",
    "if __name__ == \"__main__\":\n",
    "    dq = Deque()\n",
    "    dq.add_front(1)\n",
    "    dq.add_front(2)\n",
    "    dq.add_front(3)\n",
    "    dq.add_front(4)\n",
    "    print(dq.size())\n",
    "    print(dq.remove_front())\n",
    "    print(dq.remove_front())\n",
    "    print(dq.remove_rear())\n",
    "    print(dq.remove_rear())\n"
   ]
  },
  {
   "cell_type": "code",
   "execution_count": 4,
   "metadata": {},
   "outputs": [
    {
     "name": "stdout",
     "output_type": "stream",
     "text": [
      "0 1 2 3 4 5 6 7 8 9 \n",
      "先序\n",
      "0 1 3 7 8 4 9 2 5 6 \n",
      "中序\n",
      "7 3 8 1 9 4 0 5 2 6 \n",
      "后序\n",
      "7 8 3 9 4 1 5 6 2 0 "
     ]
    }
   ],
   "source": [
    "class Node(object):\n",
    "    \"\"\"二叉树节点\"\"\"\n",
    "    def __init__(self, item):\n",
    "        self.item = item\n",
    "        self.lChild = None\n",
    "        self.rChild = None\n",
    "\n",
    "\n",
    "class Tree(object):\n",
    "    \"\"\"完全二叉树\"\"\"\n",
    "    def __init__(self):\n",
    "        self.__root = None\n",
    "\n",
    "    def add(self, item):\n",
    "        \"\"\"添加节点\"\"\"\n",
    "        node = Node(item)\n",
    "        if self.__root is None:\n",
    "            self.__root = node\n",
    "        else:\n",
    "            # 从上到下，从左到右\n",
    "            # 使用队列\n",
    "            queue = []\n",
    "            queue.append(self.__root)\n",
    "            while queue:\n",
    "                child = queue.pop(0)\n",
    "                if child.lChild is None:\n",
    "                    child.lChild = node\n",
    "                    return\n",
    "                if child.rChild is None:\n",
    "                    child.rChild = node\n",
    "                    return\n",
    "                queue.append(child.lChild)\n",
    "                queue.append(child.rChild)\n",
    "\n",
    "    def broad_travel(self):\n",
    "        \"\"\"广度优先遍历，从上到下，从左到右\"\"\"\n",
    "        if self.__root is None:\n",
    "            return\n",
    "        else:\n",
    "            queue = []\n",
    "            queue.append(self.__root)\n",
    "            while queue:\n",
    "                node = queue.pop(0)\n",
    "                print(node.item, end=' ')\n",
    "                if node.lChild is not None:\n",
    "                    queue.append(node.lChild)\n",
    "                if node.rChild is not None:\n",
    "                    queue.append(node.rChild)\n",
    "\n",
    "    def depth_travel(self):\n",
    "        \"\"\"深度优先遍历，包含先序、中序、后序\"\"\"\n",
    "        print('先序')\n",
    "        self.pre_order(self.__root)\n",
    "        print()\n",
    "        print('中序')\n",
    "        self.in_order(self.__root)\n",
    "        print()\n",
    "        print('后序')\n",
    "        self.post_order(self.__root)\n",
    "\n",
    "    def pre_order(self, node):\n",
    "        \"\"\"先序遍历\"\"\"\n",
    "        if node is None:\n",
    "            return\n",
    "        print(node.item, end=' ')\n",
    "        self.pre_order(node.lChild)\n",
    "        self.pre_order(node.rChild)\n",
    "\n",
    "    def in_order(self, node):\n",
    "        \"\"\"中序遍历\"\"\"\n",
    "        if node is None:\n",
    "            return\n",
    "        self.in_order(node.lChild)\n",
    "        print(node.item, end=' ')\n",
    "        self.in_order(node.rChild)\n",
    "\n",
    "    def post_order(self, node):\n",
    "        \"\"\"后序遍历\"\"\"\n",
    "        if node is None:\n",
    "            return\n",
    "        self.post_order(node.lChild)\n",
    "        self.post_order(node.rChild)\n",
    "        print(node.item, end=' ')\n",
    "\n",
    "\n",
    "if __name__ == \"__main__\":\n",
    "    tree = Tree()\n",
    "    tree.add(0)\n",
    "    tree.add(1)\n",
    "    tree.add(2)\n",
    "    tree.add(3)\n",
    "    tree.add(4)\n",
    "    tree.add(5)\n",
    "    tree.add(6)\n",
    "    tree.add(7)\n",
    "    tree.add(8)\n",
    "    tree.add(9)\n",
    "\n",
    "    tree.broad_travel()\n",
    "    print()\n",
    "    tree.depth_travel()\n"
   ]
  },
  {
   "cell_type": "code",
   "execution_count": 6,
   "metadata": {},
   "outputs": [
    {
     "data": {
      "text/plain": [
       "Counter({1: 1, 2: 2, 3: 1, 4: 1, 5: 1, 6: 2, 7: 1, 8: 2, 9: 3})"
      ]
     },
     "execution_count": 6,
     "metadata": {},
     "output_type": "execute_result"
    }
   ],
   "source": [
    "from collections import Counter\n",
    "\n",
    "mylist = [1,2,2,3,4,5,6,6,7,8,8,9,9,9]\n",
    "Counter(mylist)"
   ]
  },
  {
   "cell_type": "code",
   "execution_count": null,
   "metadata": {},
   "outputs": [],
   "source": []
  }
 ],
 "metadata": {
  "kernelspec": {
   "display_name": "Python 3",
   "language": "python",
   "name": "python3"
  },
  "language_info": {
   "codemirror_mode": {
    "name": "ipython",
    "version": 3
   },
   "file_extension": ".py",
   "mimetype": "text/x-python",
   "name": "python",
   "nbconvert_exporter": "python",
   "pygments_lexer": "ipython3",
   "version": "3.6.3"
  }
 },
 "nbformat": 4,
 "nbformat_minor": 2
}
